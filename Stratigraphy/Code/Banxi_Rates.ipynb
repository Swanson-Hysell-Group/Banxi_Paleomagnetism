{
 "cells": [
  {
   "cell_type": "markdown",
   "metadata": {},
   "source": [
    "# Banxi Rates\n",
    "\n",
    "Calculate sediment accumulation rates in the Banxi Group using zircon U-Pb CA-ID-TIMS constraints from the Hongzixi section."
   ]
  },
  {
   "cell_type": "code",
   "execution_count": 1,
   "metadata": {},
   "outputs": [],
   "source": [
    "import numpy as np\n",
    "import matplotlib.pyplot as plt\n",
    "from scipy import stats"
   ]
  },
  {
   "cell_type": "markdown",
   "metadata": {},
   "source": [
    "Measured values:"
   ]
  },
  {
   "cell_type": "code",
   "execution_count": 2,
   "metadata": {},
   "outputs": [],
   "source": [
    "H2_470_age = 814.58\n",
    "H2_470_age_uncertainty = 0.10 #PLACEHOLDER\n",
    "H2_470_height = 1586.2\n",
    "\n",
    "H3_60_age = 812.7\n",
    "H3_60_age_uncertainty = 0.10 #PLACEHOLDER\n",
    "H3_60_height = 2622.4\n",
    "\n",
    "H3_8_age = 805.4\n",
    "H3_8_age_uncertainty = 0.10 #PLACEHOLDER\n",
    "H3_8_height = 3389.3\n",
    "\n",
    "# uncertainty in height as a ratio\n",
    "height_error = 0.01"
   ]
  },
  {
   "cell_type": "markdown",
   "metadata": {},
   "source": [
    "Generate normal distributions:"
   ]
  },
  {
   "cell_type": "code",
   "execution_count": 3,
   "metadata": {},
   "outputs": [],
   "source": [
    "N = 50000\n",
    "\n",
    "H2_470_ages = np.random.normal(H2_470_age, H2_470_age_uncertainty/2, N)\n",
    "H2_470_heights = np.random.normal(H2_470_height, H2_470_height*height_error, N)\n",
    "\n",
    "H3_60_ages = np.random.normal(H3_60_age, H3_60_age_uncertainty/2, N)\n",
    "H3_60_heights = np.random.normal(H3_60_height, H3_60_height*height_error, N)\n",
    "\n",
    "H3_8_ages = np.random.normal(H3_8_age, H3_8_age_uncertainty/2, N)\n",
    "H3_8_heights = np.random.normal(H3_8_height, H3_8_height*height_error, N)"
   ]
  },
  {
   "cell_type": "markdown",
   "metadata": {},
   "source": [
    "Get sediment accumulation rates:"
   ]
  },
  {
   "cell_type": "code",
   "execution_count": 4,
   "metadata": {},
   "outputs": [],
   "source": [
    "H_lower_rates = np.array([])\n",
    "H_upper_rates = np.array([])\n",
    "for i in range(N):\n",
    "    H_lower_rate = -(H2_470_heights[i] - H3_60_heights[i]) / (H2_470_ages[i] - H3_60_ages[i])\n",
    "    H_lower_rates = np.append(H_lower_rates, H_lower_rate)\n",
    "    \n",
    "    H_upper_rate = -(H3_60_heights[i] - H3_8_heights[i]) / (H3_60_ages[i] - H3_8_ages[i])\n",
    "    H_upper_rates = np.append(H_upper_rates, H_upper_rate)"
   ]
  },
  {
   "cell_type": "markdown",
   "metadata": {},
   "source": [
    "Plot:"
   ]
  },
  {
   "cell_type": "code",
   "execution_count": 5,
   "metadata": {},
   "outputs": [
    {
     "data": {
      "image/png": "[encoded data removed]",
      "text/plain": [
       "<Figure size 576x216 with 2 Axes>"
      ]
     },
     "metadata": {
      "needs_background": "light"
     },
     "output_type": "display_data"
    }
   ],
   "source": [
    "fig, ax = plt.subplots(1, 2, figsize=(8,3), sharey=True)\n",
    "\n",
    "ax[0].hist(H_lower_rates, bins=20, histtype='stepfilled', color='C0', alpha=0.5, label='lower')\n",
    "ax[0].set_xlabel('sedimentation rate [m/Myr]')\n",
    "ax[0].set_ylabel('n')\n",
    "ax[0].legend(fontsize=8)\n",
    "\n",
    "ax[1].hist(H_upper_rates, bins=20, histtype='stepfilled', color='C1', alpha=0.5, label='upper')\n",
    "ax[1].set_xlabel('sedimentation rate [m/Myr]')\n",
    "ax[1].legend(fontsize=8)\n",
    "\n",
    "plt.show(fig)"
   ]
  },
  {
   "cell_type": "code",
   "execution_count": 6,
   "metadata": {},
   "outputs": [
    {
     "name": "stdout",
     "output_type": "stream",
     "text": [
      "lower:\n",
      "  mean = 552.00 m/m.y.\n",
      " 2.5 % = 502.76 m/m.y.\n",
      "97.5 % = 606.40 m/m.y.\n",
      "\n",
      "upper:\n",
      "  mean = 105.04 m/m.y.\n",
      " 2.5 % = 93.47 m/m.y.\n",
      "97.5 % = 116.66 m/m.y.\n"
     ]
    }
   ],
   "source": [
    "print('lower:')\n",
    "print('  mean = {:.2f} m/m.y.'.format(np.mean(H_lower_rates)))\n",
    "print(' 2.5 % = {:.2f} m/m.y.'.format(stats.scoreatpercentile(H_lower_rates, 2.5)))\n",
    "print('97.5 % = {:.2f} m/m.y.'.format(stats.scoreatpercentile(H_lower_rates, 97.5)))\n",
    "\n",
    "print('')\n",
    "            \n",
    "print('upper:')\n",
    "print('  mean = {:.2f} m/m.y.'.format(np.mean(H_upper_rates)))\n",
    "print(' 2.5 % = {:.2f} m/m.y.'.format(stats.scoreatpercentile(H_upper_rates, 2.5)))\n",
    "print('97.5 % = {:.2f} m/m.y.'.format(stats.scoreatpercentile(H_upper_rates, 97.5)))"
   ]
  }
 ],
 "metadata": {
  "kernelspec": {
   "display_name": "Python 3",
   "language": "python",
   "name": "python3"
  },
  "language_info": {
   "codemirror_mode": {
    "name": "ipython",
    "version": 3
   },
   "file_extension": ".py",
   "mimetype": "text/x-python",
   "name": "python",
   "nbconvert_exporter": "python",
   "pygments_lexer": "ipython3",
   "version": "3.7.7"
  }
 },
 "nbformat": 4,
 "nbformat_minor": 4
}
