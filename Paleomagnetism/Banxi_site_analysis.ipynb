{
 "cells": [
  {
   "cell_type": "markdown",
   "metadata": {},
   "source": [
    "# Banxi Site Analysis"
   ]
  },
  {
   "cell_type": "code",
   "execution_count": 1,
   "metadata": {},
   "outputs": [],
   "source": [
    "import pmagpy.pmag as pmag\n",
    "import pmagpy.ipmag as ipmag\n",
    "\n",
    "import pandas as pd\n",
    "import matplotlib.pyplot as plt\n",
    "import numpy as np"
   ]
  },
  {
   "cell_type": "markdown",
   "metadata": {},
   "source": [
    "## Functions"
   ]
  },
  {
   "cell_type": "code",
   "execution_count": 2,
   "metadata": {},
   "outputs": [],
   "source": [
    "def list_components(df):\n",
    "    components = []\n",
    "    for i in range(len(df.index)):\n",
    "        if df['dir_comp_name'][i] not in components:\n",
    "            components.append(df['dir_comp_name'][i])\n",
    "    print(components)"
   ]
  },
  {
   "cell_type": "markdown",
   "metadata": {},
   "source": [
    "## Data"
   ]
  },
  {
   "cell_type": "code",
   "execution_count": 4,
   "metadata": {},
   "outputs": [
    {
     "data": {
      "text/plain": [
       "Index(['site', 'location', 'samples', 'specimens', 'age', 'age_high',\n",
       "       'age_low', 'age_sigma', 'age_unit', 'dir_alpha95', 'dir_comp_name',\n",
       "       'dir_dec', 'dir_inc', 'dir_k', 'dir_n_samples', 'dir_n_specimens_lines',\n",
       "       'dir_n_specimens_planes', 'dir_polarity', 'dir_r',\n",
       "       'dir_tilt_correction', 'lat', 'lon', 'analysts', 'criteria',\n",
       "       'software_packages', 'citations', 'method_codes', 'result_quality',\n",
       "       'result_type', 'vgp_dm', 'vgp_dp', 'vgp_lat', 'vgp_lon',\n",
       "       'dir_n_specimens'],\n",
       "      dtype='object')"
      ]
     },
     "execution_count": 4,
     "metadata": {},
     "output_type": "execute_result"
    }
   ],
   "source": [
    "PM_data1 = pd.read_csv('PM_data1/sites.txt',sep='\\t',header=1)\n",
    "PM_data2 = pd.read_csv('PM_data2/sites.txt',sep='\\t',header=1)\n",
    "PM_data3 = pd.read_csv('PM_data3/sites.txt',sep='\\t',header=1)\n",
    "PM_data1.columns"
   ]
  },
  {
   "cell_type": "code",
   "execution_count": 5,
   "metadata": {},
   "outputs": [
    {
     "data": {
      "text/plain": [
       "Index(['specimen', 'experiments', 'sample', 'dir_alpha95', 'dir_comp',\n",
       "       'dir_dec', 'dir_inc', 'dir_n_comps', 'dir_n_measurements',\n",
       "       'dir_tilt_correction', 'dir_dang', 'dir_mad_free', 'meas_step_max',\n",
       "       'meas_step_min', 'meas_step_unit', 'analysts', 'instrument_codes',\n",
       "       'software_packages', 'int_corr', 'citations', 'method_codes',\n",
       "       'result_quality', 'volume', 'weight', 'location', 'site'],\n",
       "      dtype='object')"
      ]
     },
     "execution_count": 5,
     "metadata": {},
     "output_type": "execute_result"
    }
   ],
   "source": [
    "PM_data1_specimens = pd.read_csv('PM_data1/specimens.txt',sep='\\t',header=1)\n",
    "PM_data2_specimens = pd.read_csv('PM_data2/specimens.txt',sep='\\t',header=1)\n",
    "PM_data3_specimens = pd.read_csv('PM_data3/specimens.txt',sep='\\t',header=1)\n",
    "PM_data1_specimens.columns"
   ]
  },
  {
   "cell_type": "code",
   "execution_count": 6,
   "metadata": {},
   "outputs": [
    {
     "data": {
      "text/plain": [
       "Index(['analysts', 'azimuth', 'azimuth_dec_correction', 'bed_dip',\n",
       "       'bed_dip_direction', 'citations', 'dip', 'geologic_classes',\n",
       "       'geologic_types', 'height', 'lithologies', 'method_codes', 'sample',\n",
       "       'site'],\n",
       "      dtype='object')"
      ]
     },
     "execution_count": 6,
     "metadata": {},
     "output_type": "execute_result"
    }
   ],
   "source": [
    "PM_data1_samples = pd.read_csv('PM_data1/samples.txt',sep='\\t',header=1)\n",
    "PM_data2_samples = pd.read_csv('PM_data2/samples.txt',sep='\\t',header=1)\n",
    "PM_data3_samples = pd.read_csv('PM_data3/samples.txt',sep='\\t',header=1)\n",
    "PM_data1_samples.columns"
   ]
  },
  {
   "cell_type": "code",
   "execution_count": 7,
   "metadata": {},
   "outputs": [
    {
     "name": "stdout",
     "output_type": "stream",
     "text": [
      "['HT1', 'HT1_0', 'MT1', 'HT2', 'LT1']\n"
     ]
    }
   ],
   "source": [
    "list_components(PM_data1)"
   ]
  },
  {
   "cell_type": "code",
   "execution_count": 8,
   "metadata": {},
   "outputs": [
    {
     "name": "stdout",
     "output_type": "stream",
     "text": [
      "['HT1', 'LT1']\n"
     ]
    }
   ],
   "source": [
    "list_components(PM_data2)"
   ]
  },
  {
   "cell_type": "code",
   "execution_count": 9,
   "metadata": {},
   "outputs": [
    {
     "ename": "KeyError",
     "evalue": "'dir_comp_name'",
     "output_type": "error",
     "traceback": [
      "\u001b[0;31m---------------------------------------------------------------------------\u001b[0m",
      "\u001b[0;31mKeyError\u001b[0m                                  Traceback (most recent call last)",
      "\u001b[0;32m~/anaconda3/lib/python3.6/site-packages/pandas/core/indexes/base.py\u001b[0m in \u001b[0;36mget_loc\u001b[0;34m(self, key, method, tolerance)\u001b[0m\n\u001b[1;32m   3077\u001b[0m             \u001b[0;32mtry\u001b[0m\u001b[0;34m:\u001b[0m\u001b[0;34m\u001b[0m\u001b[0m\n\u001b[0;32m-> 3078\u001b[0;31m                 \u001b[0;32mreturn\u001b[0m \u001b[0mself\u001b[0m\u001b[0;34m.\u001b[0m\u001b[0m_engine\u001b[0m\u001b[0;34m.\u001b[0m\u001b[0mget_loc\u001b[0m\u001b[0;34m(\u001b[0m\u001b[0mkey\u001b[0m\u001b[0;34m)\u001b[0m\u001b[0;34m\u001b[0m\u001b[0m\n\u001b[0m\u001b[1;32m   3079\u001b[0m             \u001b[0;32mexcept\u001b[0m \u001b[0mKeyError\u001b[0m\u001b[0;34m:\u001b[0m\u001b[0;34m\u001b[0m\u001b[0m\n",
      "\u001b[0;32mpandas/_libs/index.pyx\u001b[0m in \u001b[0;36mpandas._libs.index.IndexEngine.get_loc\u001b[0;34m()\u001b[0m\n",
      "\u001b[0;32mpandas/_libs/index.pyx\u001b[0m in \u001b[0;36mpandas._libs.index.IndexEngine.get_loc\u001b[0;34m()\u001b[0m\n",
      "\u001b[0;32mpandas/_libs/hashtable_class_helper.pxi\u001b[0m in \u001b[0;36mpandas._libs.hashtable.PyObjectHashTable.get_item\u001b[0;34m()\u001b[0m\n",
      "\u001b[0;32mpandas/_libs/hashtable_class_helper.pxi\u001b[0m in \u001b[0;36mpandas._libs.hashtable.PyObjectHashTable.get_item\u001b[0;34m()\u001b[0m\n",
      "\u001b[0;31mKeyError\u001b[0m: 'dir_comp_name'",
      "\nDuring handling of the above exception, another exception occurred:\n",
      "\u001b[0;31mKeyError\u001b[0m                                  Traceback (most recent call last)",
      "\u001b[0;32m<ipython-input-9-75f2529ae86c>\u001b[0m in \u001b[0;36m<module>\u001b[0;34m\u001b[0m\n\u001b[0;32m----> 1\u001b[0;31m \u001b[0mlist_components\u001b[0m\u001b[0;34m(\u001b[0m\u001b[0mPM_data3\u001b[0m\u001b[0;34m)\u001b[0m\u001b[0;34m\u001b[0m\u001b[0m\n\u001b[0m",
      "\u001b[0;32m<ipython-input-2-e45c914df51f>\u001b[0m in \u001b[0;36mlist_components\u001b[0;34m(df)\u001b[0m\n\u001b[1;32m      2\u001b[0m     \u001b[0mcomponents\u001b[0m \u001b[0;34m=\u001b[0m \u001b[0;34m[\u001b[0m\u001b[0;34m]\u001b[0m\u001b[0;34m\u001b[0m\u001b[0m\n\u001b[1;32m      3\u001b[0m     \u001b[0;32mfor\u001b[0m \u001b[0mi\u001b[0m \u001b[0;32min\u001b[0m \u001b[0mrange\u001b[0m\u001b[0;34m(\u001b[0m\u001b[0mlen\u001b[0m\u001b[0;34m(\u001b[0m\u001b[0mdf\u001b[0m\u001b[0;34m.\u001b[0m\u001b[0mindex\u001b[0m\u001b[0;34m)\u001b[0m\u001b[0;34m)\u001b[0m\u001b[0;34m:\u001b[0m\u001b[0;34m\u001b[0m\u001b[0m\n\u001b[0;32m----> 4\u001b[0;31m         \u001b[0;32mif\u001b[0m \u001b[0mdf\u001b[0m\u001b[0;34m[\u001b[0m\u001b[0;34m'dir_comp_name'\u001b[0m\u001b[0;34m]\u001b[0m\u001b[0;34m[\u001b[0m\u001b[0mi\u001b[0m\u001b[0;34m]\u001b[0m \u001b[0;32mnot\u001b[0m \u001b[0;32min\u001b[0m \u001b[0mcomponents\u001b[0m\u001b[0;34m:\u001b[0m\u001b[0;34m\u001b[0m\u001b[0m\n\u001b[0m\u001b[1;32m      5\u001b[0m             \u001b[0mcomponents\u001b[0m\u001b[0;34m.\u001b[0m\u001b[0mappend\u001b[0m\u001b[0;34m(\u001b[0m\u001b[0mdf\u001b[0m\u001b[0;34m[\u001b[0m\u001b[0;34m'dir_comp_name'\u001b[0m\u001b[0;34m]\u001b[0m\u001b[0;34m[\u001b[0m\u001b[0mi\u001b[0m\u001b[0;34m]\u001b[0m\u001b[0;34m)\u001b[0m\u001b[0;34m\u001b[0m\u001b[0m\n\u001b[1;32m      6\u001b[0m     \u001b[0mprint\u001b[0m\u001b[0;34m(\u001b[0m\u001b[0mcomponents\u001b[0m\u001b[0;34m)\u001b[0m\u001b[0;34m\u001b[0m\u001b[0m\n",
      "\u001b[0;32m~/anaconda3/lib/python3.6/site-packages/pandas/core/frame.py\u001b[0m in \u001b[0;36m__getitem__\u001b[0;34m(self, key)\u001b[0m\n\u001b[1;32m   2686\u001b[0m             \u001b[0;32mreturn\u001b[0m \u001b[0mself\u001b[0m\u001b[0;34m.\u001b[0m\u001b[0m_getitem_multilevel\u001b[0m\u001b[0;34m(\u001b[0m\u001b[0mkey\u001b[0m\u001b[0;34m)\u001b[0m\u001b[0;34m\u001b[0m\u001b[0m\n\u001b[1;32m   2687\u001b[0m         \u001b[0;32melse\u001b[0m\u001b[0;34m:\u001b[0m\u001b[0;34m\u001b[0m\u001b[0m\n\u001b[0;32m-> 2688\u001b[0;31m             \u001b[0;32mreturn\u001b[0m \u001b[0mself\u001b[0m\u001b[0;34m.\u001b[0m\u001b[0m_getitem_column\u001b[0m\u001b[0;34m(\u001b[0m\u001b[0mkey\u001b[0m\u001b[0;34m)\u001b[0m\u001b[0;34m\u001b[0m\u001b[0m\n\u001b[0m\u001b[1;32m   2689\u001b[0m \u001b[0;34m\u001b[0m\u001b[0m\n\u001b[1;32m   2690\u001b[0m     \u001b[0;32mdef\u001b[0m \u001b[0m_getitem_column\u001b[0m\u001b[0;34m(\u001b[0m\u001b[0mself\u001b[0m\u001b[0;34m,\u001b[0m \u001b[0mkey\u001b[0m\u001b[0;34m)\u001b[0m\u001b[0;34m:\u001b[0m\u001b[0;34m\u001b[0m\u001b[0m\n",
      "\u001b[0;32m~/anaconda3/lib/python3.6/site-packages/pandas/core/frame.py\u001b[0m in \u001b[0;36m_getitem_column\u001b[0;34m(self, key)\u001b[0m\n\u001b[1;32m   2693\u001b[0m         \u001b[0;31m# get column\u001b[0m\u001b[0;34m\u001b[0m\u001b[0;34m\u001b[0m\u001b[0m\n\u001b[1;32m   2694\u001b[0m         \u001b[0;32mif\u001b[0m \u001b[0mself\u001b[0m\u001b[0;34m.\u001b[0m\u001b[0mcolumns\u001b[0m\u001b[0;34m.\u001b[0m\u001b[0mis_unique\u001b[0m\u001b[0;34m:\u001b[0m\u001b[0;34m\u001b[0m\u001b[0m\n\u001b[0;32m-> 2695\u001b[0;31m             \u001b[0;32mreturn\u001b[0m \u001b[0mself\u001b[0m\u001b[0;34m.\u001b[0m\u001b[0m_get_item_cache\u001b[0m\u001b[0;34m(\u001b[0m\u001b[0mkey\u001b[0m\u001b[0;34m)\u001b[0m\u001b[0;34m\u001b[0m\u001b[0m\n\u001b[0m\u001b[1;32m   2696\u001b[0m \u001b[0;34m\u001b[0m\u001b[0m\n\u001b[1;32m   2697\u001b[0m         \u001b[0;31m# duplicate columns & possible reduce dimensionality\u001b[0m\u001b[0;34m\u001b[0m\u001b[0;34m\u001b[0m\u001b[0m\n",
      "\u001b[0;32m~/anaconda3/lib/python3.6/site-packages/pandas/core/generic.py\u001b[0m in \u001b[0;36m_get_item_cache\u001b[0;34m(self, item)\u001b[0m\n\u001b[1;32m   2487\u001b[0m         \u001b[0mres\u001b[0m \u001b[0;34m=\u001b[0m \u001b[0mcache\u001b[0m\u001b[0;34m.\u001b[0m\u001b[0mget\u001b[0m\u001b[0;34m(\u001b[0m\u001b[0mitem\u001b[0m\u001b[0;34m)\u001b[0m\u001b[0;34m\u001b[0m\u001b[0m\n\u001b[1;32m   2488\u001b[0m         \u001b[0;32mif\u001b[0m \u001b[0mres\u001b[0m \u001b[0;32mis\u001b[0m \u001b[0;32mNone\u001b[0m\u001b[0;34m:\u001b[0m\u001b[0;34m\u001b[0m\u001b[0m\n\u001b[0;32m-> 2489\u001b[0;31m             \u001b[0mvalues\u001b[0m \u001b[0;34m=\u001b[0m \u001b[0mself\u001b[0m\u001b[0;34m.\u001b[0m\u001b[0m_data\u001b[0m\u001b[0;34m.\u001b[0m\u001b[0mget\u001b[0m\u001b[0;34m(\u001b[0m\u001b[0mitem\u001b[0m\u001b[0;34m)\u001b[0m\u001b[0;34m\u001b[0m\u001b[0m\n\u001b[0m\u001b[1;32m   2490\u001b[0m             \u001b[0mres\u001b[0m \u001b[0;34m=\u001b[0m \u001b[0mself\u001b[0m\u001b[0;34m.\u001b[0m\u001b[0m_box_item_values\u001b[0m\u001b[0;34m(\u001b[0m\u001b[0mitem\u001b[0m\u001b[0;34m,\u001b[0m \u001b[0mvalues\u001b[0m\u001b[0;34m)\u001b[0m\u001b[0;34m\u001b[0m\u001b[0m\n\u001b[1;32m   2491\u001b[0m             \u001b[0mcache\u001b[0m\u001b[0;34m[\u001b[0m\u001b[0mitem\u001b[0m\u001b[0;34m]\u001b[0m \u001b[0;34m=\u001b[0m \u001b[0mres\u001b[0m\u001b[0;34m\u001b[0m\u001b[0m\n",
      "\u001b[0;32m~/anaconda3/lib/python3.6/site-packages/pandas/core/internals.py\u001b[0m in \u001b[0;36mget\u001b[0;34m(self, item, fastpath)\u001b[0m\n\u001b[1;32m   4113\u001b[0m \u001b[0;34m\u001b[0m\u001b[0m\n\u001b[1;32m   4114\u001b[0m             \u001b[0;32mif\u001b[0m \u001b[0;32mnot\u001b[0m \u001b[0misna\u001b[0m\u001b[0;34m(\u001b[0m\u001b[0mitem\u001b[0m\u001b[0;34m)\u001b[0m\u001b[0;34m:\u001b[0m\u001b[0;34m\u001b[0m\u001b[0m\n\u001b[0;32m-> 4115\u001b[0;31m                 \u001b[0mloc\u001b[0m \u001b[0;34m=\u001b[0m \u001b[0mself\u001b[0m\u001b[0;34m.\u001b[0m\u001b[0mitems\u001b[0m\u001b[0;34m.\u001b[0m\u001b[0mget_loc\u001b[0m\u001b[0;34m(\u001b[0m\u001b[0mitem\u001b[0m\u001b[0;34m)\u001b[0m\u001b[0;34m\u001b[0m\u001b[0m\n\u001b[0m\u001b[1;32m   4116\u001b[0m             \u001b[0;32melse\u001b[0m\u001b[0;34m:\u001b[0m\u001b[0;34m\u001b[0m\u001b[0m\n\u001b[1;32m   4117\u001b[0m                 \u001b[0mindexer\u001b[0m \u001b[0;34m=\u001b[0m \u001b[0mnp\u001b[0m\u001b[0;34m.\u001b[0m\u001b[0marange\u001b[0m\u001b[0;34m(\u001b[0m\u001b[0mlen\u001b[0m\u001b[0;34m(\u001b[0m\u001b[0mself\u001b[0m\u001b[0;34m.\u001b[0m\u001b[0mitems\u001b[0m\u001b[0;34m)\u001b[0m\u001b[0;34m)\u001b[0m\u001b[0;34m[\u001b[0m\u001b[0misna\u001b[0m\u001b[0;34m(\u001b[0m\u001b[0mself\u001b[0m\u001b[0;34m.\u001b[0m\u001b[0mitems\u001b[0m\u001b[0;34m)\u001b[0m\u001b[0;34m]\u001b[0m\u001b[0;34m\u001b[0m\u001b[0m\n",
      "\u001b[0;32m~/anaconda3/lib/python3.6/site-packages/pandas/core/indexes/base.py\u001b[0m in \u001b[0;36mget_loc\u001b[0;34m(self, key, method, tolerance)\u001b[0m\n\u001b[1;32m   3078\u001b[0m                 \u001b[0;32mreturn\u001b[0m \u001b[0mself\u001b[0m\u001b[0;34m.\u001b[0m\u001b[0m_engine\u001b[0m\u001b[0;34m.\u001b[0m\u001b[0mget_loc\u001b[0m\u001b[0;34m(\u001b[0m\u001b[0mkey\u001b[0m\u001b[0;34m)\u001b[0m\u001b[0;34m\u001b[0m\u001b[0m\n\u001b[1;32m   3079\u001b[0m             \u001b[0;32mexcept\u001b[0m \u001b[0mKeyError\u001b[0m\u001b[0;34m:\u001b[0m\u001b[0;34m\u001b[0m\u001b[0m\n\u001b[0;32m-> 3080\u001b[0;31m                 \u001b[0;32mreturn\u001b[0m \u001b[0mself\u001b[0m\u001b[0;34m.\u001b[0m\u001b[0m_engine\u001b[0m\u001b[0;34m.\u001b[0m\u001b[0mget_loc\u001b[0m\u001b[0;34m(\u001b[0m\u001b[0mself\u001b[0m\u001b[0;34m.\u001b[0m\u001b[0m_maybe_cast_indexer\u001b[0m\u001b[0;34m(\u001b[0m\u001b[0mkey\u001b[0m\u001b[0;34m)\u001b[0m\u001b[0;34m)\u001b[0m\u001b[0;34m\u001b[0m\u001b[0m\n\u001b[0m\u001b[1;32m   3081\u001b[0m \u001b[0;34m\u001b[0m\u001b[0m\n\u001b[1;32m   3082\u001b[0m         \u001b[0mindexer\u001b[0m \u001b[0;34m=\u001b[0m \u001b[0mself\u001b[0m\u001b[0;34m.\u001b[0m\u001b[0mget_indexer\u001b[0m\u001b[0;34m(\u001b[0m\u001b[0;34m[\u001b[0m\u001b[0mkey\u001b[0m\u001b[0;34m]\u001b[0m\u001b[0;34m,\u001b[0m \u001b[0mmethod\u001b[0m\u001b[0;34m=\u001b[0m\u001b[0mmethod\u001b[0m\u001b[0;34m,\u001b[0m \u001b[0mtolerance\u001b[0m\u001b[0;34m=\u001b[0m\u001b[0mtolerance\u001b[0m\u001b[0;34m)\u001b[0m\u001b[0;34m\u001b[0m\u001b[0m\n",
      "\u001b[0;32mpandas/_libs/index.pyx\u001b[0m in \u001b[0;36mpandas._libs.index.IndexEngine.get_loc\u001b[0;34m()\u001b[0m\n",
      "\u001b[0;32mpandas/_libs/index.pyx\u001b[0m in \u001b[0;36mpandas._libs.index.IndexEngine.get_loc\u001b[0;34m()\u001b[0m\n",
      "\u001b[0;32mpandas/_libs/hashtable_class_helper.pxi\u001b[0m in \u001b[0;36mpandas._libs.hashtable.PyObjectHashTable.get_item\u001b[0;34m()\u001b[0m\n",
      "\u001b[0;32mpandas/_libs/hashtable_class_helper.pxi\u001b[0m in \u001b[0;36mpandas._libs.hashtable.PyObjectHashTable.get_item\u001b[0;34m()\u001b[0m\n",
      "\u001b[0;31mKeyError\u001b[0m: 'dir_comp_name'"
     ]
    }
   ],
   "source": [
    "list_components(PM_data3)"
   ]
  },
  {
   "cell_type": "code",
   "execution_count": null,
   "metadata": {},
   "outputs": [],
   "source": [
    "PM_data1_HT = PM_data1[PM_data1.dir_comp_name == 'HT1'].copy()\n",
    "PM_data1_HT_filtered = PM_data1_HT[PM_data1_HT.dir_alpha95 < 20].copy()\n",
    "PM_data1_HT_tc = PM_data1_HT_filtered[PM_data1_HT_filtered.dir_tilt_correction == 100].copy()\n",
    "PM_data1_HT_is = PM_data1_HT_filtered[PM_data1_HT_filtered.dir_tilt_correction == 0].copy()\n",
    "\n",
    "PM_data1_HT_site = PM_data1_HT_tc['site'].copy()\n",
    "\n",
    "PM_data1_HT_tc_dec = PM_data1_HT_tc.dir_dec.tolist()\n",
    "PM_data1_HT_tc_inc = PM_data1_HT_tc.dir_inc.tolist()\n",
    "PM_data1_HT_tc_a95 = PM_data1_HT_tc.dir_alpha95.tolist()\n",
    "\n",
    "PM_data1_HT_is_dec = PM_data1_HT_is.dir_dec.tolist()\n",
    "PM_data1_HT_is_inc = PM_data1_HT_is.dir_inc.tolist()\n",
    "PM_data1_HT_is_a95 = PM_data1_HT_is.dir_alpha95.tolist()\n",
    "\n",
    "PM_data1_HT_site"
   ]
  },
  {
   "cell_type": "code",
   "execution_count": null,
   "metadata": {},
   "outputs": [],
   "source": [
    "PM_data2_HT = PM_data2[PM_data2.dir_comp_name == 'HT1'].copy()\n",
    "PM_data2_HT_filtered = PM_data2_HT[PM_data2_HT.dir_alpha95 < 20].copy()\n",
    "PM_data2_HT_tc = PM_data2_HT_filtered[PM_data2_HT_filtered.dir_tilt_correction == 100].copy()\n",
    "PM_data2_HT_is = PM_data2_HT_filtered[PM_data2_HT_filtered.dir_tilt_correction == 0].copy()\n",
    "\n",
    "PM_data2_HT_site = PM_data2_HT_tc['site'].copy()\n",
    "\n",
    "PM_data2_HT_tc_dec = PM_data2_HT_tc.dir_dec.tolist()\n",
    "PM_data2_HT_tc_inc = PM_data2_HT_tc.dir_inc.tolist()\n",
    "PM_data2_HT_tc_a95 = PM_data2_HT_tc.dir_alpha95.tolist()\n",
    "\n",
    "PM_data2_HT_is_dec = PM_data2_HT_is.dir_dec.tolist()\n",
    "PM_data2_HT_is_inc = PM_data2_HT_is.dir_inc.tolist()\n",
    "PM_data2_HT_is_a95 = PM_data2_HT_is.dir_alpha95.tolist()\n",
    "\n",
    "PM_data2_HT_site"
   ]
  },
  {
   "cell_type": "code",
   "execution_count": null,
   "metadata": {},
   "outputs": [],
   "source": [
    "all_HT_tc_dec = np.append([PM_data1_HT_tc_dec], [PM_data2_HT_tc_dec])\n",
    "all_HT_tc_inc = np.append([PM_data1_HT_tc_inc], [PM_data2_HT_tc_inc])\n",
    "all_HT_tc_a95 = np.append([PM_data1_HT_tc_a95], [PM_data2_HT_tc_a95])\n",
    "\n",
    "all_HT_is_dec = np.append([PM_data1_HT_is_dec], [PM_data2_HT_is_dec])\n",
    "all_HT_is_inc = np.append([PM_data1_HT_is_inc], [PM_data2_HT_is_inc])\n",
    "all_HT_is_a95 = np.append([PM_data1_HT_is_a95], [PM_data2_HT_is_a95])"
   ]
  },
  {
   "cell_type": "code",
   "execution_count": null,
   "metadata": {},
   "outputs": [],
   "source": [
    "fignum = 1\n",
    "plt.figure(num=fignum,figsize=(5,5))\n",
    "ipmag.plot_net(fignum)\n",
    "ipmag.plot_di(PM_data1_HT_tc_dec, PM_data1_HT_tc_inc, color='C0', label='tilt-corrected')\n",
    "ipmag.plot_di(PM_data1_HT_is_dec, PM_data1_HT_is_inc, color='C1', label='geographic')\n",
    "plt.legend(loc=1)\n",
    "plt.show()"
   ]
  },
  {
   "cell_type": "code",
   "execution_count": null,
   "metadata": {},
   "outputs": [],
   "source": [
    "fignum = 1\n",
    "plt.figure(num=fignum,figsize=(5,5))\n",
    "ipmag.plot_net(fignum)\n",
    "ipmag.plot_di(PM_data2_HT_tc_dec, PM_data2_HT_tc_inc, color='C0', label='tilt-corrected')\n",
    "ipmag.plot_di(PM_data2_HT_is_dec, PM_data2_HT_is_inc, color='C1', label='geographic')\n",
    "plt.legend(loc=1)\n",
    "plt.show()"
   ]
  },
  {
   "cell_type": "code",
   "execution_count": null,
   "metadata": {},
   "outputs": [],
   "source": [
    "fignum = 1\n",
    "plt.figure(num=fignum,figsize=(5,5))\n",
    "ipmag.plot_net(fignum)\n",
    "for i in range(len(all_HT_is_dec)):\n",
    "    if all_HT_is_a95[i] < 20:\n",
    "        ipmag.plot_di_mean(all_HT_is_dec[i], all_HT_is_inc[i], all_HT_is_a95[i],color='C0')\n",
    "plt.title('Preliminary Banxi Group sites (geographic coordinates)',fontsize=12)\n",
    "#plt.savefig('preliminary_geographic.svg')\n",
    "plt.show()"
   ]
  },
  {
   "cell_type": "code",
   "execution_count": null,
   "metadata": {},
   "outputs": [],
   "source": [
    "fignum = 1\n",
    "plt.figure(num=fignum,figsize=(5,5))\n",
    "ipmag.plot_net(fignum)\n",
    "for i in range(len(all_HT_tc_dec)):\n",
    "    if all_HT_tc_a95[i] < 20:\n",
    "        ipmag.plot_di_mean(all_HT_tc_dec[i], all_HT_tc_inc[i], all_HT_tc_a95[i],color='C1')\n",
    "plt.title('Preliminary Banxi Group sites (tilt-corrected coordinates)',fontsize=12)\n",
    "#plt.savefig('preliminary_tiltcorrected.svg')\n",
    "plt.show()"
   ]
  },
  {
   "cell_type": "code",
   "execution_count": null,
   "metadata": {},
   "outputs": [],
   "source": [
    "HT_is_inc_flipped = []\n",
    "HT_is_dec_flipped = []\n",
    "HT_tc_inc_flipped = []\n",
    "HT_tc_dec_flipped = []\n",
    "\n",
    "for i in range(len(all_HT_tc_dec)):\n",
    "    if all_HT_tc_inc[i] > 0:\n",
    "        HT_is_inc_flipped.append(-all_HT_is_inc[i])\n",
    "        HT_is_dec_flipped.append(all_HT_is_dec[i]+180)\n",
    "        HT_tc_inc_flipped.append(-all_HT_tc_inc[i])\n",
    "        HT_tc_dec_flipped.append(all_HT_tc_dec[i]+180)\n",
    "    else:\n",
    "        HT_is_inc_flipped.append(all_HT_is_inc[i])\n",
    "        HT_is_dec_flipped.append(all_HT_is_dec[i])\n",
    "        HT_tc_inc_flipped.append(all_HT_tc_inc[i])\n",
    "        HT_tc_dec_flipped.append(all_HT_tc_dec[i])\n",
    "\n",
    "HT_tc_mean = ipmag.fisher_mean(HT_tc_dec_flipped,HT_tc_inc_flipped)\n",
    "HT_is_mean = ipmag.fisher_mean(HT_is_dec_flipped,HT_is_inc_flipped)\n",
    "ipmag.print_direction_mean(HT_tc_mean)\n",
    "print('')\n",
    "ipmag.print_direction_mean(HT_is_mean)"
   ]
  },
  {
   "cell_type": "code",
   "execution_count": null,
   "metadata": {},
   "outputs": [],
   "source": [
    "ipmag.lat_from_inc(HT_tc_mean['inc'])"
   ]
  },
  {
   "cell_type": "markdown",
   "metadata": {},
   "source": [
    "## Fold Test"
   ]
  },
  {
   "cell_type": "markdown",
   "metadata": {},
   "source": [
    "### Samples"
   ]
  },
  {
   "cell_type": "code",
   "execution_count": null,
   "metadata": {},
   "outputs": [],
   "source": [
    "fold_test_decs = np.array([])\n",
    "fold_test_incs = np.array([])\n",
    "fold_test_dip_dir = np.array([])\n",
    "fold_test_dip = np.array([])\n",
    "\n",
    "# round 1\n",
    "PM_data1_specimen_HT = PM_data1_specimens[(PM_data1_specimens['dir_comp']=='HT1')&\\\n",
    "                                          (PM_data1_specimens['dir_tilt_correction']==0)&\\\n",
    "                                          (PM_data1_specimens['site']=='TR014')].copy()\n",
    "PM_data1_specimen_HT.reset_index(drop=True, inplace=True)\n",
    "for i in range(len(PM_data1_specimen_HT.index)):\n",
    "    for j in range(len(PM_data1_samples.index)):\n",
    "        if PM_data1_specimen_HT['sample'][i] == PM_data1_samples['sample'][j]:\n",
    "            fold_test_decs = np.append(fold_test_decs, PM_data1_specimen_HT['dir_dec'][i])\n",
    "            fold_test_incs = np.append(fold_test_incs, PM_data1_specimen_HT['dir_inc'][i])\n",
    "            fold_test_dip_dir = np.append(fold_test_dip_dir, PM_data1_samples['bed_dip_direction'][j])\n",
    "            fold_test_dip = np.append(fold_test_dip, PM_data1_samples['bed_dip'][j])\n",
    "            break\n",
    "\n",
    "# round 2\n",
    "PM_data2_specimen_HT = PM_data2_specimens[(PM_data2_specimens['dir_comp']=='HT1')&\\\n",
    "                                          (PM_data2_specimens['dir_tilt_correction']==0)&\\\n",
    "                                          ((PM_data2_specimens['site']=='TR018')|\\\n",
    "                                           (PM_data2_specimens['site']=='TR020')|\\\n",
    "                                           (PM_data2_specimens['site']=='TR024')|\\\n",
    "                                           (PM_data2_specimens['site']=='TR026')|\\\n",
    "                                           (PM_data2_specimens['site']=='TR035')|\\\n",
    "                                           (PM_data2_specimens['site']=='TR042'))].copy()\n",
    "PM_data2_specimen_HT.reset_index(drop=True, inplace=True)\n",
    "for i in range(len(PM_data2_specimen_HT.index)):\n",
    "    for j in range(len(PM_data2_samples.index)):\n",
    "        if PM_data2_specimen_HT['sample'][i] == PM_data2_samples['sample'][j]:\n",
    "            fold_test_decs = np.append(fold_test_decs, PM_data2_specimen_HT['dir_dec'][i])\n",
    "            fold_test_incs = np.append(fold_test_incs, PM_data2_specimen_HT['dir_inc'][i])\n",
    "            fold_test_dip_dir = np.append(fold_test_dip_dir, PM_data2_samples['bed_dip_direction'][j])\n",
    "            fold_test_dip = np.append(fold_test_dip, PM_data2_samples['bed_dip'][j])\n",
    "            break\n",
    "            \n",
    "for i in range(len(fold_test_dip_dir)):\n",
    "    if fold_test_dip_dir[i]>360:\n",
    "        fold_test_dip_dir[i]=fold_test_dip_dir[i]-360\n",
    "        \n",
    "fold_test_array = ipmag.make_diddd_array(fold_test_decs,fold_test_incs,fold_test_dip_dir,fold_test_dip)"
   ]
  },
  {
   "cell_type": "code",
   "execution_count": null,
   "metadata": {},
   "outputs": [],
   "source": [
    "ipmag.bootstrap_fold_test(fold_test_array)"
   ]
  },
  {
   "cell_type": "markdown",
   "metadata": {},
   "source": [
    "### Sites"
   ]
  },
  {
   "cell_type": "markdown",
   "metadata": {},
   "source": [
    "TR035 uses different beddings through the site... not included in analysis for now. The rest of the sites have a single bedding for the whole site."
   ]
  },
  {
   "cell_type": "code",
   "execution_count": null,
   "metadata": {},
   "outputs": [],
   "source": [
    "fold_test_decs = np.array([])\n",
    "fold_test_incs = np.array([])\n",
    "fold_test_dip_dir = np.array([])\n",
    "fold_test_dip = np.array([])\n",
    "\n",
    "# round 1\n",
    "PM_data1_HT = PM_data1[(PM_data1['dir_comp_name']=='HT1')&\\\n",
    "                       (PM_data1['dir_tilt_correction']==0)&\\\n",
    "                       (PM_data1['site']=='TR014')].copy()\n",
    "PM_data1_HT.reset_index(drop=True, inplace=True)\n",
    "for i in range(len(PM_data1_HT.index)):\n",
    "    for j in range(len(PM_data1_samples.index)):\n",
    "        if PM_data1_HT['site'][i] == PM_data1_samples['site'][j]:\n",
    "            fold_test_decs = np.append(fold_test_decs, PM_data1_HT['dir_dec'][i])\n",
    "            fold_test_incs = np.append(fold_test_incs, PM_data1_HT['dir_inc'][i])\n",
    "            fold_test_dip_dir = np.append(fold_test_dip_dir, PM_data1_samples['bed_dip_direction'][j])\n",
    "            fold_test_dip = np.append(fold_test_dip, PM_data1_samples['bed_dip'][j])\n",
    "            break\n",
    "            \n",
    "# round 2\n",
    "PM_data2_HT = PM_data2[(PM_data2['dir_comp_name']=='HT1')&\\\n",
    "                       (PM_data2['dir_tilt_correction']==0)&\\\n",
    "                       ((PM_data2['site']=='TR018')|\\\n",
    "                        (PM_data2['site']=='TR020')|\\\n",
    "                        (PM_data2['site']=='TR024')|\\\n",
    "                        (PM_data2['site']=='TR026')|\\\n",
    "                        (PM_data2['site']=='TR042'))].copy()\n",
    "PM_data2_HT.reset_index(drop=True, inplace=True)\n",
    "for i in range(len(PM_data2_HT.index)):\n",
    "    for j in range(len(PM_data2_samples.index)):\n",
    "        if PM_data2_HT['site'][i] == PM_data2_samples['site'][j]:\n",
    "            fold_test_decs = np.append(fold_test_decs, PM_data2_HT['dir_dec'][i])\n",
    "            fold_test_incs = np.append(fold_test_incs, PM_data2_HT['dir_inc'][i])\n",
    "            fold_test_dip_dir = np.append(fold_test_dip_dir, PM_data2_samples['bed_dip_direction'][j])\n",
    "            fold_test_dip = np.append(fold_test_dip, PM_data2_samples['bed_dip'][j])\n",
    "            break\n",
    "            \n",
    "fold_test_array = ipmag.make_diddd_array(fold_test_decs,fold_test_incs,fold_test_dip_dir,fold_test_dip)"
   ]
  },
  {
   "cell_type": "code",
   "execution_count": null,
   "metadata": {},
   "outputs": [],
   "source": [
    "ipmag.bootstrap_fold_test(fold_test_array)"
   ]
  },
  {
   "cell_type": "markdown",
   "metadata": {},
   "source": [
    "### Luoman Local Fold Test"
   ]
  },
  {
   "cell_type": "code",
   "execution_count": null,
   "metadata": {},
   "outputs": [],
   "source": [
    "fold_test_decs = np.array([])\n",
    "fold_test_incs = np.array([])\n",
    "fold_test_dip_dir = np.array([])\n",
    "fold_test_dip = np.array([])\n",
    "\n",
    "Luoman2_specimen_HT = PM_data2_specimens[(PM_data2_specimens['dir_comp']=='HT1')&\\\n",
    "                                         (PM_data2_specimens['dir_tilt_correction']==0)&\\\n",
    "                                         ((PM_data2_specimens['site']=='TR035')|\\\n",
    "                                          (PM_data2_specimens['site']=='TR036')|\\\n",
    "                                          (PM_data2_specimens['site']=='TR042'))].copy()\n",
    "Luoman2_specimen_HT.reset_index(drop=True, inplace=True)\n",
    "for i in range(len(Luoman2_specimen_HT.index)):\n",
    "    for j in range(len(PM_data2_samples.index)):\n",
    "        if Luoman2_specimen_HT['sample'][i] == PM_data2_samples['sample'][j]:\n",
    "            fold_test_decs = np.append(fold_test_decs, Luoman2_specimen_HT['dir_dec'][i])\n",
    "            fold_test_incs = np.append(fold_test_incs, Luoman2_specimen_HT['dir_inc'][i])\n",
    "            fold_test_dip_dir = np.append(fold_test_dip_dir, PM_data2_samples['bed_dip_direction'][j])\n",
    "            fold_test_dip = np.append(fold_test_dip, PM_data2_samples['bed_dip'][j])\n",
    "            break\n",
    "            \n",
    "for i in range(len(fold_test_dip_dir)):\n",
    "    if fold_test_dip_dir[i]>360:\n",
    "        fold_test_dip_dir[i]=fold_test_dip_dir[i]-360\n",
    "        \n",
    "fold_test_array = ipmag.make_diddd_array(fold_test_decs,fold_test_incs,fold_test_dip_dir,fold_test_dip)"
   ]
  },
  {
   "cell_type": "code",
   "execution_count": null,
   "metadata": {},
   "outputs": [],
   "source": [
    "ipmag.bootstrap_fold_test(fold_test_array)"
   ]
  },
  {
   "cell_type": "markdown",
   "metadata": {},
   "source": [
    "## Maps"
   ]
  },
  {
   "cell_type": "code",
   "execution_count": null,
   "metadata": {},
   "outputs": [],
   "source": [
    "from mpl_toolkits.basemap import Basemap\n",
    "import numpy as np"
   ]
  },
  {
   "cell_type": "code",
   "execution_count": null,
   "metadata": {},
   "outputs": [],
   "source": [
    "PM_data2_HT_tc.index"
   ]
  },
  {
   "cell_type": "code",
   "execution_count": null,
   "metadata": {},
   "outputs": [],
   "source": [
    "PM_data2_vgp_lat = []\n",
    "PM_data2_vgp_lon = []\n",
    "\n",
    "for i in PM_data2_HT_tc.index:\n",
    "    if PM_data2_HT_tc.dir_inc[i] > 0:\n",
    "        PM_data2_vgp_lat.append(PM_data2_HT_tc.vgp_lat[i])\n",
    "        PM_data2_vgp_lon.append(PM_data2_HT_tc.vgp_lon[i])\n",
    "    else:\n",
    "        PM_data2_vgp_lat.append(-PM_data2_HT_tc.vgp_lat[i])\n",
    "        PM_data2_vgp_lon.append(PM_data2_HT_tc.vgp_lon[i]-180)\n",
    "        \n",
    "PM_data2_pole = ipmag.fisher_mean(dec=PM_data2_vgp_lon,inc=PM_data2_vgp_lat)\n",
    "ipmag.print_pole_mean(PM_data2_pole)"
   ]
  },
  {
   "cell_type": "code",
   "execution_count": null,
   "metadata": {},
   "outputs": [],
   "source": [
    "PM_data2_vgp_lat"
   ]
  },
  {
   "cell_type": "code",
   "execution_count": null,
   "metadata": {},
   "outputs": [],
   "source": [
    "# initiate the figure\n",
    "plt.figure(figsize=(6, 6))\n",
    "pmap = Basemap(projection='ortho',lat_0=35,lon_0=140,\n",
    "               resolution='c',area_thresh=50000)\n",
    "pmap.drawcoastlines(linewidth=0.25)\n",
    "pmap.fillcontinents(color='bisque',lake_color='white',zorder=1)\n",
    "pmap.drawmapboundary(fill_color='white')\n",
    "pmap.drawmeridians(np.arange(0,360,30))\n",
    "pmap.drawparallels(np.arange(-90,90,30))\n",
    "\n",
    "ipmag.plot_vgp(pmap,vgp_lon=PM_data2_vgp_lon,vgp_lat=PM_data2_vgp_lat)\n",
    "        \n",
    "\n",
    "plt.show()"
   ]
  },
  {
   "cell_type": "code",
   "execution_count": null,
   "metadata": {},
   "outputs": [],
   "source": [
    "ipmag.lat_from_pole(PM_data2_HT_tc.lon[2],PM_data2_HT_tc.lat[2],PM_data2_pole['dec'],PM_data2_pole['inc'])"
   ]
  },
  {
   "cell_type": "code",
   "execution_count": null,
   "metadata": {},
   "outputs": [],
   "source": [
    "PM_data2_HT_tc.site"
   ]
  },
  {
   "cell_type": "code",
   "execution_count": null,
   "metadata": {},
   "outputs": [],
   "source": []
  }
 ],
 "metadata": {
  "kernelspec": {
   "display_name": "Python 3",
   "language": "python",
   "name": "python3"
  },
  "language_info": {
   "codemirror_mode": {
    "name": "ipython",
    "version": 3
   },
   "file_extension": ".py",
   "mimetype": "text/x-python",
   "name": "python",
   "nbconvert_exporter": "python",
   "pygments_lexer": "ipython3",
   "version": "3.6.6"
  },
  "toc": {
   "nav_menu": {},
   "number_sections": false,
   "sideBar": true,
   "skip_h1_title": false,
   "title_cell": "Table of Contents",
   "title_sidebar": "Contents",
   "toc_cell": false,
   "toc_position": {
    "height": "calc(100% - 180px)",
    "left": "10px",
    "top": "150px",
    "width": "342px"
   },
   "toc_section_display": true,
   "toc_window_display": true
  }
 },
 "nbformat": 4,
 "nbformat_minor": 2
}
