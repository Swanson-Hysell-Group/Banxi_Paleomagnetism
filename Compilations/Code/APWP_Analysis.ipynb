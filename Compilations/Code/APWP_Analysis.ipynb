{
 "cells": [
  {
   "cell_type": "markdown",
   "metadata": {},
   "source": [
    "# APWP Analysis"
   ]
  },
  {
   "cell_type": "code",
   "execution_count": null,
   "metadata": {},
   "outputs": [],
   "source": [
    "# standard modules\n",
    "import pandas as pd\n",
    "import numpy as np\n",
    "import matplotlib.pyplot as plt\n",
    "import matplotlib\n",
    "from matplotlib.cm import get_cmap\n",
    "import matplotlib.patches as patches\n",
    "import os\n",
    "from mpl_toolkits.axes_grid1.inset_locator import inset_axes\n",
    "pd.set_option('display.max_rows',999)\n",
    "pd.set_option('display.max_columns',999)\n",
    "\n",
    "# pmagpy\n",
    "import pmagpy.ipmag as ipmag\n",
    "import pmagpy.pmag as pmag\n",
    "import cartopy.crs as ccrs\n",
    "import xml.etree.ElementTree as ET\n",
    "import pygplates as pgp"
   ]
  },
  {
   "cell_type": "markdown",
   "metadata": {},
   "source": [
    "## Functions"
   ]
  },
  {
   "cell_type": "code",
   "execution_count": null,
   "metadata": {},
   "outputs": [],
   "source": [
    "def create_vgp_FeatureCollection(compilation):\n",
    "    \"\"\"\n",
    "    Loop through poles and produce a pygplates FeatureCollection of multiple VGPs.\n",
    "    \n",
    "    Modified from code by Michael G. Tetley.\n",
    "    \n",
    "    Parameters\n",
    "    ----------\n",
    "    compilation : dataframe\n",
    "        pole compilation\n",
    "        \n",
    "    Returns\n",
    "    -------\n",
    "    vpgFeatureCollection : FeatureCollection\n",
    "        pygplates FeatureCollection of VGPs in compilation\n",
    "    \"\"\"\n",
    "    poleLat = []\n",
    "    poleLon = []\n",
    "    poleName = []\n",
    "    poleSiteLat = []\n",
    "    poleSiteLon = []\n",
    "    poleNominalAge = []\n",
    "    poleA95 = []\n",
    "    poleAgeLowerLimit = []\n",
    "    poleAgeUpperLimit = []\n",
    "    plateID = []\n",
    "\n",
    "    count = 0\n",
    "\n",
    "    for i in range(len(compilation)):\n",
    "\n",
    "        if np.isfinite(compilation['slat'][i]) and np.isfinite(compilation['slon'][i]) and \\\n",
    "           np.isfinite(compilation['age lower'][i]) and np.isfinite(compilation['age upper'][i]):\n",
    "\n",
    "            poleLat.append(compilation['plat'][i])\n",
    "            poleLon.append(compilation['plon'][i])\n",
    "\n",
    "            poleName.append(compilation['name'][i] + ' (' + compilation['grade'][i] + ')')\n",
    "            poleSiteLat.append(compilation['slat'][i])\n",
    "            poleSiteLon.append(compilation['slon'][i])\n",
    "            poleNominalAge.append(compilation['age'][i])\n",
    "            poleA95.append(compilation['a95'][i])\n",
    "\n",
    "            poleAgeLowerLimit.append(compilation['age lower'][i])\n",
    "            poleAgeUpperLimit.append(compilation['age upper'][i])\n",
    "\n",
    "            plateID.append(compilation['plateID'][i])\n",
    "\n",
    "            count = count + 1\n",
    "\n",
    "        # Print if any of the isfinite tests fail\n",
    "        else:\n",
    "\n",
    "            print('Bad data for : {}'.format(compilation['name'][i]))\n",
    "\n",
    "\n",
    "    # Create new GPlates Feature Collection\n",
    "    vpgFeatureCollection = pgp.FeatureCollection()\n",
    "\n",
    "    # Create new GPlates feature 'VirtualGeomagneticPole'.\n",
    "    # Pole lat, pole lon, pole name, and reconstruction plate ID added within PointOnSphere method.\n",
    "    # Inc, Dec, A95, Age and Sample site lat/lon values to added within 'other_properties' method.\n",
    "\n",
    "    for j in range(count):\n",
    "\n",
    "        vgpFeature = pgp.Feature.create_reconstructable_feature(\n",
    "                     pgp.FeatureType.create_gpml('VirtualGeomagneticPole'),\n",
    "                     pgp.PointOnSphere([np.float(poleLat[j]), np.float(poleLon[j])]),\n",
    "                     name = poleName[j],\n",
    "                     reconstruction_plate_id = int(plateID[j]),\n",
    "                     other_properties = [(pgp.PropertyName.create_gpml('poleA95'), pgp.XsDouble(np.float64(poleA95[j]))),\n",
    "                                         (pgp.PropertyName.create_gpml('averageAge'), pgp.XsDouble(np.float64(poleNominalAge[j]))),\n",
    "                                         (pgp.PropertyName.create_gpml('averageSampleSitePosition'),\n",
    "                                          pgp.GmlPoint(pgp.PointOnSphere([np.float(poleSiteLat[j]), \n",
    "                                                                          np.float(poleSiteLon[j])])))])\n",
    "\n",
    "        # Add newly created feature to existing Feature Collection\n",
    "        vpgFeatureCollection.add(vgpFeature)\n",
    "\n",
    "    return vpgFeatureCollection"
   ]
  },
  {
   "cell_type": "code",
   "execution_count": null,
   "metadata": {},
   "outputs": [],
   "source": [
    "def create_vgp_gpml(vpgFeatureCollection, filename):\n",
    "    \"\"\"\n",
    "    Create a .gpml for a FeatureCollection of VGPs.\n",
    "    \n",
    "    Modified from code by Michael G. Tetley.\n",
    "    \n",
    "    Parameters\n",
    "    ----------\n",
    "    vpgFeatureCollection : FeatureCollection\n",
    "        pygplates FeatureCollection of VGPs in compilation\n",
    "        \n",
    "    filename : string\n",
    "        path and name for output .gpml\n",
    "    \"\"\"\n",
    "    # Generate GPML output file\n",
    "    gpmlOutputFile = filename\n",
    "\n",
    "    # Check for existing output file with same name and remove if found\n",
    "    if os.path.isfile(filename):\n",
    "        os.remove(filename)\n",
    "\n",
    "    # Check to make sure vgpFeatureCollection (feature collection) is not empty before writing to file\n",
    "    if len(vpgFeatureCollection) != 0:\n",
    "        outputFeatureCollection = pgp.FeatureCollectionFileFormatRegistry()\n",
    "        outputFeatureCollection.write(vpgFeatureCollection, filename)\n",
    "\n",
    "    # Check if new file was created and confirm export\n",
    "    if os.path.isfile(filename):\n",
    "        print('Palaeomagnetic pole data successfully exported in GPML format.')"
   ]
  },
  {
   "cell_type": "markdown",
   "metadata": {},
   "source": [
    "## South China Poles"
   ]
  },
  {
   "cell_type": "code",
   "execution_count": null,
   "metadata": {},
   "outputs": [],
   "source": [
    "compilation_cols = ['name',\n",
    "                    'terrane',\n",
    "                    'age',\n",
    "                    'age upper',\n",
    "                    'age lower',\n",
    "                    'plat',\n",
    "                    'plon',\n",
    "                    'a95',\n",
    "                    'f',\n",
    "                    'slat',\n",
    "                    'slon',\n",
    "                    'dec',\n",
    "                    'inc',\n",
    "                    'dir_a95',\n",
    "                    'pole ref',\n",
    "                    'age ref',\n",
    "                    'grade',\n",
    "                    'note',\n",
    "                    'plateID']"
   ]
  },
  {
   "cell_type": "code",
   "execution_count": null,
   "metadata": {},
   "outputs": [],
   "source": [
    "SChina = pd.DataFrame(columns=compilation_cols)\n",
    "i = 0"
   ]
  },
  {
   "cell_type": "markdown",
   "metadata": {},
   "source": [
    "### Yanbian Dikes\n",
    "\n",
    "* A 5 degree vertical axis rotation is applied to these data in the paper. They are not tilt-corrected (except for one) although they are located within a mobile belt.\n",
    "* Baked contact test, dike-tilt test, rock magnetism.\n",
    "* SIMS on dike."
   ]
  },
  {
   "cell_type": "code",
   "execution_count": null,
   "metadata": {},
   "outputs": [],
   "source": [
    "SChina.loc[i, 'name']    = 'Yanbian Dikes Group A'\n",
    "SChina.loc[i, 'terrane'] = 'SChina'\n",
    "SChina.loc[i, 'age']       = 824\n",
    "SChina.loc[i, 'age upper'] = 824 + 6\n",
    "SChina.loc[i, 'age lower'] = 824 - 6\n",
    "SChina.loc[i, 'plat'] = 45.1\n",
    "SChina.loc[i, 'plon'] = 130.4\n",
    "SChina.loc[i, 'a95']  = 19.0\n",
    "SChina.loc[i, 'f'] = 1.0\n",
    "SChina.loc[i, 'slat'] = 26.886\n",
    "SChina.loc[i, 'slon'] = 101.546\n",
    "SChina.loc[i, 'dec']     = np.nan\n",
    "SChina.loc[i, 'inc']     = np.nan\n",
    "SChina.loc[i, 'dir_a95'] = np.nan\n",
    "SChina.loc[i, 'pole ref'] = 'Niu et al. (2016)'\n",
    "SChina.loc[i, 'age ref']  = 'Niu et al. (2016)'\n",
    "SChina.loc[i, 'grade'] = 'B'\n",
    "SChina.loc[i, 'note']  = '-'\n",
    "SChina.loc[i, 'plateID'] = 602\n",
    "i = i + 1"
   ]
  },
  {
   "cell_type": "markdown",
   "metadata": {},
   "source": [
    "### Madiyi Formation\n",
    "\n",
    "* Inclination correction preferred by authors.\n",
    "* Reversal test.\n",
    "* SIMS on tuff.\n",
    "* Age updated with CA-ID-TIMS in this study."
   ]
  },
  {
   "cell_type": "code",
   "execution_count": null,
   "metadata": {},
   "outputs": [],
   "source": [
    "SChina.loc[i, 'name']    = 'Madiyi Formation (f=1.0)'\n",
    "SChina.loc[i, 'terrane'] = 'SChina'\n",
    "SChina.loc[i, 'age']       = 804.9\n",
    "SChina.loc[i, 'age upper'] = 804.9 + 0.36\n",
    "SChina.loc[i, 'age lower'] = 804.9 - 0.36\n",
    "SChina.loc[i, 'plat'] = 35.3\n",
    "SChina.loc[i, 'plon'] = 67.9\n",
    "SChina.loc[i, 'a95']  = np.sqrt(4.7*5.5)\n",
    "SChina.loc[i, 'f'] = 1.0\n",
    "SChina.loc[i, 'slat'] = 27.5\n",
    "SChina.loc[i, 'slon'] = 109.6\n",
    "SChina.loc[i, 'dec']     = 293.1\n",
    "SChina.loc[i, 'inc']     = 69.9\n",
    "SChina.loc[i, 'dir_a95'] = 3.2\n",
    "SChina.loc[i, 'pole ref'] = 'Xian et al. (2020)'\n",
    "SChina.loc[i, 'age ref']  = 'this study'\n",
    "SChina.loc[i, 'grade'] = 'NR'\n",
    "SChina.loc[i, 'note']  = '-'\n",
    "SChina.loc[i, 'plateID'] = 602\n",
    "i = i + 1"
   ]
  },
  {
   "cell_type": "code",
   "execution_count": null,
   "metadata": {},
   "outputs": [],
   "source": [
    "SChina.loc[i, 'name']    = 'Madiyi Formation (f=0.6)'\n",
    "SChina.loc[i, 'terrane'] = 'SChina'\n",
    "SChina.loc[i, 'age']       = 804.9\n",
    "SChina.loc[i, 'age upper'] = 804.9 + 0.36\n",
    "SChina.loc[i, 'age lower'] = 804.9 - 0.36\n",
    "SChina.loc[i, 'plat'] = 34.3\n",
    "SChina.loc[i, 'plon'] = 82.4\n",
    "SChina.loc[i, 'a95']  = np.sqrt(3.9*3.7)\n",
    "SChina.loc[i, 'f'] = 0.6\n",
    "SChina.loc[i, 'slat'] = 27.5\n",
    "SChina.loc[i, 'slon'] = 109.6\n",
    "SChina.loc[i, 'dec']     = 293.0\n",
    "SChina.loc[i, 'inc']     = 77.3\n",
    "SChina.loc[i, 'dir_a95'] = 2.1\n",
    "SChina.loc[i, 'pole ref'] = 'Xian et al. (2020)'\n",
    "SChina.loc[i, 'age ref']  = 'this study'\n",
    "SChina.loc[i, 'grade'] = 'NR'\n",
    "SChina.loc[i, 'note']  = '-'\n",
    "SChina.loc[i, 'plateID'] = 602\n",
    "i = i + 1"
   ]
  },
  {
   "cell_type": "markdown",
   "metadata": {},
   "source": [
    "### Chengjiang Formation\n",
    "\n",
    "* Fold test, reversal test.\n",
    "* Sample mean - a pole could be calculated from the sites instead. The site mean pole gives roughly the same direction, just with a larger uncertainty.\n",
    "* SIMS on tuffaceous siltstone."
   ]
  },
  {
   "cell_type": "code",
   "execution_count": null,
   "metadata": {},
   "outputs": [],
   "source": []
  },
  {
   "cell_type": "code",
   "execution_count": null,
   "metadata": {},
   "outputs": [],
   "source": []
  },
  {
   "cell_type": "code",
   "execution_count": null,
   "metadata": {},
   "outputs": [],
   "source": []
  },
  {
   "cell_type": "code",
   "execution_count": null,
   "metadata": {},
   "outputs": [],
   "source": []
  },
  {
   "cell_type": "code",
   "execution_count": null,
   "metadata": {},
   "outputs": [],
   "source": []
  },
  {
   "cell_type": "code",
   "execution_count": null,
   "metadata": {},
   "outputs": [],
   "source": []
  },
  {
   "cell_type": "code",
   "execution_count": null,
   "metadata": {},
   "outputs": [],
   "source": []
  },
  {
   "cell_type": "code",
   "execution_count": null,
   "metadata": {},
   "outputs": [],
   "source": []
  },
  {
   "cell_type": "code",
   "execution_count": null,
   "metadata": {},
   "outputs": [],
   "source": []
  },
  {
   "cell_type": "markdown",
   "metadata": {},
   "source": [
    "## Other Poles"
   ]
  },
  {
   "cell_type": "code",
   "execution_count": null,
   "metadata": {},
   "outputs": [],
   "source": [
    "pole_path = '../../../Rodinia_Model/Torsvik-extended/poles/raw-data/'"
   ]
  },
  {
   "cell_type": "markdown",
   "metadata": {},
   "source": [
    "### Laurentia"
   ]
  },
  {
   "cell_type": "markdown",
   "metadata": {},
   "source": [
    "#### Compilation"
   ]
  },
  {
   "cell_type": "code",
   "execution_count": null,
   "metadata": {},
   "outputs": [],
   "source": [
    "Laurentia = pd.DataFrame(columns=compilation_cols)"
   ]
  },
  {
   "cell_type": "code",
   "execution_count": null,
   "metadata": {},
   "outputs": [],
   "source": [
    "SwansonHysell_preprint = pd.read_csv(pole_path+'Swanson-Hysell_preprint.csv')\n",
    "SwansonHysell_preprint.columns"
   ]
  },
  {
   "cell_type": "markdown",
   "metadata": {},
   "source": [
    "Clean up the age column:"
   ]
  },
  {
   "cell_type": "code",
   "execution_count": null,
   "metadata": {},
   "outputs": [],
   "source": [
    "SwansonHysell_preprint_age_nominal = []\n",
    "SwansonHysell_preprint_age_upper = []\n",
    "SwansonHysell_preprint_age_lower = []\n",
    "\n",
    "for age in SwansonHysell_preprint['age']:\n",
    "    age_split = age.split('$')\n",
    "    age_nominal = np.float(age_split[0])\n",
    "    age_split_upper_lower = age_split[1].split('}')\n",
    "    age_split_upper = age_split_upper_lower[0].split('+')[1]\n",
    "    age_split_lower = age_split_upper_lower[1].split('-')[1]\n",
    "    age_upper = np.float(age_split_upper)\n",
    "    age_lower = np.float(age_split_lower)\n",
    "    \n",
    "    SwansonHysell_preprint_age_nominal.append(age_nominal)\n",
    "    SwansonHysell_preprint_age_upper.append(age_nominal + age_upper)\n",
    "    SwansonHysell_preprint_age_lower.append(age_nominal - age_lower)"
   ]
  },
  {
   "cell_type": "markdown",
   "metadata": {},
   "source": [
    "Assign columns:"
   ]
  },
  {
   "cell_type": "code",
   "execution_count": null,
   "metadata": {},
   "outputs": [],
   "source": [
    "Laurentia['name'] = SwansonHysell_preprint['unit name']\n",
    "Laurentia['terrane'] = SwansonHysell_preprint['terrane']\n",
    "Laurentia['age'] = SwansonHysell_preprint_age_nominal\n",
    "Laurentia['age upper'] = SwansonHysell_preprint_age_upper\n",
    "Laurentia['age lower'] = SwansonHysell_preprint_age_lower\n",
    "Laurentia['plat'] = SwansonHysell_preprint['plat']\n",
    "Laurentia['plon'] = SwansonHysell_preprint['plon']\n",
    "Laurentia['a95'] = SwansonHysell_preprint['a95']\n",
    "#Laurentia['f']\n",
    "Laurentia['slat'] = SwansonHysell_preprint['slat']\n",
    "Laurentia['slon'] = SwansonHysell_preprint['slon']\n",
    "#Laurentia['dec']\n",
    "#Laurentia['inc']\n",
    "#Laurentia['dir_a95']\n",
    "Laurentia['pole ref'] = SwansonHysell_preprint['pole reference']\n",
    "#Laurentia['age ref']\n",
    "Laurentia['grade'] = SwansonHysell_preprint['Nordic rating']\n",
    "#Laurentia['note']\n",
    "#Laurentia['plateID']"
   ]
  },
  {
   "cell_type": "markdown",
   "metadata": {},
   "source": [
    "Add Adirondack poles:"
   ]
  },
  {
   "cell_type": "code",
   "execution_count": null,
   "metadata": {},
   "outputs": [],
   "source": [
    "i = len(Laurentia)\n",
    "\n",
    "Laurentia.loc[i, 'name']    = 'Adirondack fayalite granite'\n",
    "Laurentia.loc[i, 'terrane'] = 'Laurentia'\n",
    "Laurentia.loc[i, 'age']       = 990\n",
    "Laurentia.loc[i, 'age upper'] = 990 + 20\n",
    "Laurentia.loc[i, 'age lower'] = 990 - 20\n",
    "Laurentia.loc[i, 'plat'] = -28.4\n",
    "Laurentia.loc[i, 'plon'] = 132.7\n",
    "Laurentia.loc[i, 'a95']  = 6.9\n",
    "Laurentia.loc[i, 'f'] = np.nan\n",
    "Laurentia.loc[i, 'slat'] = 44.0\n",
    "Laurentia.loc[i, 'slon'] = 285.5\n",
    "Laurentia.loc[i, 'dec']     = np.nan\n",
    "Laurentia.loc[i, 'inc']     = np.nan\n",
    "Laurentia.loc[i, 'dir_a95'] = np.nan\n",
    "Laurentia.loc[i, 'pole ref'] = 'Brown et al. (2012)'\n",
    "Laurentia.loc[i, 'age ref']  = '-'\n",
    "Laurentia.loc[i, 'grade'] = 'NR'\n",
    "Laurentia.loc[i, 'note']  = '-'\n",
    "Laurentia.loc[i, 'plateID'] = 101\n",
    "i = i + 1\n",
    "\n",
    "Laurentia.loc[i, 'name']    = 'Adirondack metamorphic anorthosites'\n",
    "Laurentia.loc[i, 'terrane'] = 'Laurentia'\n",
    "Laurentia.loc[i, 'age']       = 970\n",
    "Laurentia.loc[i, 'age upper'] = 970 + 20\n",
    "Laurentia.loc[i, 'age lower'] = 970 - 20\n",
    "Laurentia.loc[i, 'plat'] = -25.1\n",
    "Laurentia.loc[i, 'plon'] = 149.0\n",
    "Laurentia.loc[i, 'a95']  = 11.6\n",
    "Laurentia.loc[i, 'f'] = np.nan\n",
    "Laurentia.loc[i, 'slat'] = 44.0\n",
    "Laurentia.loc[i, 'slon'] = 286.0\n",
    "Laurentia.loc[i, 'dec']     = np.nan\n",
    "Laurentia.loc[i, 'inc']     = np.nan\n",
    "Laurentia.loc[i, 'dir_a95'] = np.nan\n",
    "Laurentia.loc[i, 'pole ref'] = 'Brown et al. (2012)'\n",
    "Laurentia.loc[i, 'age ref']  = '-'\n",
    "Laurentia.loc[i, 'grade'] = 'NR'\n",
    "Laurentia.loc[i, 'note']  = '-'\n",
    "Laurentia.loc[i, 'plateID'] = 101\n",
    "i = i + 1\n",
    "\n",
    "Laurentia.loc[i, 'name']    = 'Adirondack Microcline gneiss'\n",
    "Laurentia.loc[i, 'terrane'] = 'Laurentia'\n",
    "Laurentia.loc[i, 'age']       = 960\n",
    "Laurentia.loc[i, 'age upper'] = 960 + 20\n",
    "Laurentia.loc[i, 'age lower'] = 960 - 20\n",
    "Laurentia.loc[i, 'plat'] = -18.4\n",
    "Laurentia.loc[i, 'plon'] = 151.1\n",
    "Laurentia.loc[i, 'a95']  = 10.5\n",
    "Laurentia.loc[i, 'f'] = np.nan\n",
    "Laurentia.loc[i, 'slat'] = 44.0\n",
    "Laurentia.loc[i, 'slon'] = 285.0\n",
    "Laurentia.loc[i, 'dec']     = np.nan\n",
    "Laurentia.loc[i, 'inc']     = np.nan\n",
    "Laurentia.loc[i, 'dir_a95'] = np.nan\n",
    "Laurentia.loc[i, 'pole ref'] = 'Brown et al. (2012)'\n",
    "Laurentia.loc[i, 'age ref']  = '-'\n",
    "Laurentia.loc[i, 'grade'] = 'NR'\n",
    "Laurentia.loc[i, 'note']  = '-'\n",
    "Laurentia.loc[i, 'plateID'] = 101\n",
    "i = i + 1"
   ]
  },
  {
   "cell_type": "markdown",
   "metadata": {},
   "source": [
    "Assign plateIDs:"
   ]
  },
  {
   "cell_type": "code",
   "execution_count": null,
   "metadata": {},
   "outputs": [],
   "source": [
    "# 101 for most poles\n",
    "Laurentia['plateID'] = 101\n",
    "\n",
    "# other poles\n",
    "Laurentia.loc[Laurentia['name']=='Torridon Group','plateID'] = 303\n",
    "Laurentia.loc[Laurentia['name']=='Lower Grusdievbreen Formation','plateID'] = 311\n",
    "Laurentia.loc[Laurentia['name']=='Upper Grusdievbreen Formation','plateID'] = 311\n",
    "Laurentia.loc[Laurentia['name']=='Svanbergfjellet Formation','plateID'] = 311"
   ]
  },
  {
   "cell_type": "markdown",
   "metadata": {},
   "source": [
    "Flip polarity of some poles:"
   ]
  },
  {
   "cell_type": "code",
   "execution_count": null,
   "metadata": {},
   "outputs": [],
   "source": [
    "flip_poles = ['Long Range Dykes','Baie des Moutons complex','Callander Alkaline Complex','Catoctin Basalts','Sept-Iles layered intrusion']\n",
    "for i in Laurentia.index:\n",
    "    if Laurentia['name'][i] in flip_poles:\n",
    "        Laurentia.loc[i,'dec'] = (Laurentia['dec'][i] + 180) % 360\n",
    "        Laurentia.loc[i,'inc'] = -Laurentia['inc'][i]\n",
    "        Laurentia.loc[i,'plat'] = -Laurentia['plat'][i]\n",
    "        Laurentia.loc[i,'plon'] = (Laurentia['plon'][i] + 180) % 360"
   ]
  },
  {
   "cell_type": "markdown",
   "metadata": {},
   "source": [
    "#### Summary"
   ]
  },
  {
   "cell_type": "code",
   "execution_count": null,
   "metadata": {},
   "outputs": [],
   "source": [
    "Laurentia.sort_values('age', ascending=False, inplace=True)\n",
    "Laurentia = Laurentia[compilation_cols]\n",
    "Laurentia.reset_index(inplace=True, drop=True)\n",
    "Laurentia"
   ]
  },
  {
   "cell_type": "code",
   "execution_count": null,
   "metadata": {},
   "outputs": [],
   "source": [
    "Laurentia.to_csv('../Output/Laurentia-poles.csv',index=False)\n",
    "Laurentia_vpgFeatureCollection = create_vgp_FeatureCollection(Laurentia)\n",
    "create_vgp_gpml(Laurentia_vpgFeatureCollection, '../Output/Laurentia-poles.gpml')"
   ]
  },
  {
   "cell_type": "markdown",
   "metadata": {},
   "source": [
    "### India"
   ]
  },
  {
   "cell_type": "markdown",
   "metadata": {},
   "source": [
    "#### Compilation"
   ]
  },
  {
   "cell_type": "code",
   "execution_count": null,
   "metadata": {},
   "outputs": [],
   "source": [
    "India = pd.DataFrame(columns=compilation_cols)"
   ]
  },
  {
   "cell_type": "code",
   "execution_count": null,
   "metadata": {},
   "outputs": [],
   "source": [
    "Leirubakki_India = pd.read_csv(pole_path+'Leirubakki-India.csv')\n",
    "Leirubakki_India.columns"
   ]
  },
  {
   "cell_type": "markdown",
   "metadata": {},
   "source": [
    "Clean up the pole references column:"
   ]
  },
  {
   "cell_type": "code",
   "execution_count": null,
   "metadata": {},
   "outputs": [],
   "source": [
    "Leirubakki_India_pole_ref = []\n",
    "\n",
    "for i in range(len(Leirubakki_India)):\n",
    "    pole_ref = str(Leirubakki_India['POLE AUTHORS'][i]) + ' (' + str(Leirubakki_India['YEAR'][i]) + ')'\n",
    "    Leirubakki_India_pole_ref.append(pole_ref)"
   ]
  },
  {
   "cell_type": "markdown",
   "metadata": {},
   "source": [
    "Assign columns:"
   ]
  },
  {
   "cell_type": "code",
   "execution_count": null,
   "metadata": {},
   "outputs": [],
   "source": [
    "India['name'] = Leirubakki_India['POLENAME']\n",
    "India['terrane'] = Leirubakki_India['Terrane']\n",
    "India['age'] = Leirubakki_India['nominal age']\n",
    "India['age upper'] = Leirubakki_India['himagage']\n",
    "India['age lower'] = Leirubakki_India['lomagage']\n",
    "India['plat'] = Leirubakki_India['PLAT']\n",
    "India['plon'] = Leirubakki_India['PLON']\n",
    "India['a95'] = Leirubakki_India['A95']\n",
    "#India['f']\n",
    "India['slat'] = Leirubakki_India['SLAT']\n",
    "India['slon'] = Leirubakki_India['SLON']\n",
    "India['dec'] = Leirubakki_India['DEC']\n",
    "India['inc'] = Leirubakki_India['INC']\n",
    "#India['dir_a95']\n",
    "India['pole ref'] = Leirubakki_India_pole_ref\n",
    "#India['age ref']\n",
    "India['grade'] = Leirubakki_India['Grade']\n",
    "#India['note']\n",
    "India['plateID'] = 501"
   ]
  },
  {
   "cell_type": "markdown",
   "metadata": {},
   "source": [
    "Update age of the Malani Igneous Suite:"
   ]
  },
  {
   "cell_type": "code",
   "execution_count": null,
   "metadata": {},
   "outputs": [],
   "source": [
    "India.loc[India['name']=='Malani Igneous Suite -Comb','age'] = 752\n",
    "India.loc[India['name']=='Malani Igneous Suite -Comb','age upper'] = 752 + 18\n",
    "India.loc[India['name']=='Malani Igneous Suite -Comb','age lower'] = 752 - 18"
   ]
  },
  {
   "cell_type": "markdown",
   "metadata": {},
   "source": [
    "#### Summary"
   ]
  },
  {
   "cell_type": "code",
   "execution_count": null,
   "metadata": {},
   "outputs": [],
   "source": [
    "India.sort_values('age', ascending=False, inplace=True)\n",
    "India = India[compilation_cols]\n",
    "India.reset_index(inplace=True, drop=True)\n",
    "India"
   ]
  },
  {
   "cell_type": "code",
   "execution_count": null,
   "metadata": {},
   "outputs": [],
   "source": [
    "India.to_csv('../Output/India-poles.csv',index=False)\n",
    "India_vpgFeatureCollection = create_vgp_FeatureCollection(India)\n",
    "create_vgp_gpml(India_vpgFeatureCollection, '../Output/India-poles.gpml')"
   ]
  },
  {
   "cell_type": "markdown",
   "metadata": {},
   "source": [
    "### Australia"
   ]
  },
  {
   "cell_type": "markdown",
   "metadata": {},
   "source": [
    "#### Compilation"
   ]
  },
  {
   "cell_type": "code",
   "execution_count": null,
   "metadata": {},
   "outputs": [],
   "source": [
    "Australia = pd.DataFrame(columns=compilation_cols)"
   ]
  },
  {
   "cell_type": "code",
   "execution_count": null,
   "metadata": {},
   "outputs": [],
   "source": [
    "Leirubakki_Australia = pd.read_csv(pole_path+'Leirubakki-Australia.csv')\n",
    "Leirubakki_Australia.columns"
   ]
  },
  {
   "cell_type": "markdown",
   "metadata": {},
   "source": [
    "Clean up the pole references column:"
   ]
  },
  {
   "cell_type": "code",
   "execution_count": null,
   "metadata": {},
   "outputs": [],
   "source": [
    "Leirubakki_Australia_pole_ref = []\n",
    "\n",
    "for i in range(len(Leirubakki_Australia)):\n",
    "    pole_ref = str(Leirubakki_Australia['POLE AUTHORS'][i]) + ' (' + str(Leirubakki_Australia['YEAR'][i]) + ')'\n",
    "    Leirubakki_Australia_pole_ref.append(pole_ref)"
   ]
  },
  {
   "cell_type": "markdown",
   "metadata": {},
   "source": [
    "Assign columns:"
   ]
  },
  {
   "cell_type": "code",
   "execution_count": null,
   "metadata": {},
   "outputs": [],
   "source": [
    "Australia['name'] = Leirubakki_Australia['POLENAME']\n",
    "Australia['terrane'] = Leirubakki_Australia['Terrane']\n",
    "Australia['age'] = Leirubakki_Australia['nominal age']\n",
    "Australia['age upper'] = Leirubakki_Australia['himagage']\n",
    "Australia['age lower'] = Leirubakki_Australia['lomagage']\n",
    "Australia['plat'] = Leirubakki_Australia['PLAT']\n",
    "Australia['plon'] = Leirubakki_Australia['PLON']\n",
    "Australia['a95'] = Leirubakki_Australia['A95']\n",
    "#Australia['f']\n",
    "Australia['slat'] = Leirubakki_Australia['SLAT']\n",
    "Australia['slon'] = Leirubakki_Australia['SLON']\n",
    "Australia['dec'] = Leirubakki_Australia['DEC']\n",
    "Australia['inc'] = Leirubakki_Australia['INC']\n",
    "#Australia['dir_a95']\n",
    "Australia['pole ref'] = Leirubakki_Australia_pole_ref\n",
    "#Australia['age ref']\n",
    "Australia['grade'] = Leirubakki_Australia['Grade']\n",
    "#Australia['note']\n",
    "#Australia['plateID']"
   ]
  },
  {
   "cell_type": "markdown",
   "metadata": {},
   "source": [
    "Assign plateIDs:"
   ]
  },
  {
   "cell_type": "code",
   "execution_count": null,
   "metadata": {},
   "outputs": [],
   "source": [
    "# 801 for most poles\n",
    "Australia['plateID'] = 801\n",
    "\n",
    "# other poles\n",
    "Australia.loc[Australia['name']=='Cap Dolomite, Walsh Tillite','plateID'] = 8011\n",
    "Australia.loc[Australia['name']=='Lower Arumbera and Upper Pertatataka Formations','plateID'] = 8011\n",
    "Australia.loc[Australia['name']==\"Johnny's Creek siltstones\",'plateID'] = 8011\n",
    "Australia.loc[Australia['name']=='Mt.Isa Dolerite Dykes (IAR)','plateID'] = 8011\n",
    "Australia.loc[Australia['name']=='Alcurra dykes+sills','plateID'] = 8011"
   ]
  },
  {
   "cell_type": "markdown",
   "metadata": {},
   "source": [
    "#### Summary"
   ]
  },
  {
   "cell_type": "code",
   "execution_count": null,
   "metadata": {},
   "outputs": [],
   "source": [
    "Australia.sort_values('age', ascending=False, inplace=True)\n",
    "Australia = Australia[compilation_cols]\n",
    "Australia.reset_index(inplace=True, drop=True)\n",
    "Australia"
   ]
  },
  {
   "cell_type": "code",
   "execution_count": null,
   "metadata": {},
   "outputs": [],
   "source": [
    "Australia.to_csv('../Output/Australia-poles.csv',index=False)\n",
    "Australia_vpgFeatureCollection = create_vgp_FeatureCollection(Australia)\n",
    "create_vgp_gpml(Australia_vpgFeatureCollection, '../Output/Australia-poles.gpml')"
   ]
  },
  {
   "cell_type": "markdown",
   "metadata": {},
   "source": [
    "### Siberia"
   ]
  },
  {
   "cell_type": "markdown",
   "metadata": {},
   "source": [
    "#### Compilation"
   ]
  },
  {
   "cell_type": "code",
   "execution_count": null,
   "metadata": {},
   "outputs": [],
   "source": [
    "Siberia = pd.DataFrame(columns=compilation_cols)"
   ]
  },
  {
   "cell_type": "code",
   "execution_count": null,
   "metadata": {},
   "outputs": [],
   "source": [
    "Leirubakki_Siberia = pd.read_csv(pole_path+'Leirubakki-Siberia.csv')\n",
    "Leirubakki_Siberia.columns"
   ]
  },
  {
   "cell_type": "markdown",
   "metadata": {},
   "source": [
    "Clean up the pole references column:"
   ]
  },
  {
   "cell_type": "code",
   "execution_count": null,
   "metadata": {},
   "outputs": [],
   "source": [
    "Leirubakki_Siberia_pole_ref = []\n",
    "\n",
    "for i in range(len(Leirubakki_Siberia)):\n",
    "    pole_ref = str(Leirubakki_Siberia['POLE AUTHORS'][i]) + ' (' + str(Leirubakki_Siberia['YEAR'][i]) + ')'\n",
    "    Leirubakki_Siberia_pole_ref.append(pole_ref)"
   ]
  },
  {
   "cell_type": "markdown",
   "metadata": {},
   "source": [
    "Assign columns:"
   ]
  },
  {
   "cell_type": "code",
   "execution_count": null,
   "metadata": {},
   "outputs": [],
   "source": [
    "Siberia['name'] = Leirubakki_Siberia['POLENAME']\n",
    "Siberia['terrane'] = Leirubakki_Siberia['Terrane']\n",
    "Siberia['age'] = Leirubakki_Siberia['nominal age']\n",
    "Siberia['age upper'] = Leirubakki_Siberia['himagage']\n",
    "Siberia['age lower'] = Leirubakki_Siberia['lomagage']\n",
    "Siberia['plat'] = Leirubakki_Siberia['PLAT']\n",
    "Siberia['plon'] = Leirubakki_Siberia['PLON']\n",
    "Siberia['a95'] = Leirubakki_Siberia['A95']\n",
    "#Siberia['f']\n",
    "Siberia['slat'] = Leirubakki_Siberia['SLAT']\n",
    "Siberia['slon'] = Leirubakki_Siberia['SLON']\n",
    "Siberia['dec'] = Leirubakki_Siberia['DEC']\n",
    "Siberia['inc'] = Leirubakki_Siberia['INC']\n",
    "#Siberia['dir_a95']\n",
    "Siberia['pole ref'] = Leirubakki_Siberia_pole_ref\n",
    "#Siberia['age ref']\n",
    "Siberia['grade'] = Leirubakki_Siberia['Grade']\n",
    "#Siberia['note']\n",
    "#Siberia['plateID'] = 401"
   ]
  },
  {
   "cell_type": "markdown",
   "metadata": {},
   "source": [
    "Assign plateIDs:"
   ]
  },
  {
   "cell_type": "code",
   "execution_count": null,
   "metadata": {},
   "outputs": [],
   "source": [
    "# 403 for most poles\n",
    "Siberia['plateID'] = 403\n",
    "\n",
    "# other poles\n",
    "Siberia.loc[Siberia['name']=='Linok Formation','plateID'] = 401\n",
    "Siberia.loc[Siberia['name']=='Kartochka Formation','plateID'] = 401\n",
    "Siberia.loc[Siberia['name']=='Kitoi Cryogenian dykes','plateID'] = 401"
   ]
  },
  {
   "cell_type": "markdown",
   "metadata": {},
   "source": [
    "#### Summary"
   ]
  },
  {
   "cell_type": "code",
   "execution_count": null,
   "metadata": {},
   "outputs": [],
   "source": [
    "Siberia.sort_values('age', ascending=False, inplace=True)\n",
    "Siberia = Siberia[compilation_cols]\n",
    "Siberia.reset_index(inplace=True, drop=True)\n",
    "Siberia"
   ]
  },
  {
   "cell_type": "code",
   "execution_count": null,
   "metadata": {},
   "outputs": [],
   "source": [
    "Siberia.to_csv('../Output/Siberia-poles.csv',index=False)\n",
    "Siberia_vpgFeatureCollection = create_vgp_FeatureCollection(Siberia)\n",
    "create_vgp_gpml(Siberia_vpgFeatureCollection, '../Output/Siberia-poles.gpml')"
   ]
  },
  {
   "cell_type": "code",
   "execution_count": null,
   "metadata": {},
   "outputs": [],
   "source": []
  },
  {
   "cell_type": "code",
   "execution_count": null,
   "metadata": {},
   "outputs": [],
   "source": []
  },
  {
   "cell_type": "code",
   "execution_count": null,
   "metadata": {},
   "outputs": [],
   "source": []
  },
  {
   "cell_type": "code",
   "execution_count": null,
   "metadata": {},
   "outputs": [],
   "source": []
  },
  {
   "cell_type": "code",
   "execution_count": null,
   "metadata": {},
   "outputs": [],
   "source": []
  }
 ],
 "metadata": {
  "kernelspec": {
   "display_name": "Python 3",
   "language": "python",
   "name": "python3"
  },
  "language_info": {
   "codemirror_mode": {
    "name": "ipython",
    "version": 3
   },
   "file_extension": ".py",
   "mimetype": "text/x-python",
   "name": "python",
   "nbconvert_exporter": "python",
   "pygments_lexer": "ipython3",
   "version": "3.7.9"
  },
  "toc": {
   "base_numbering": 1,
   "nav_menu": {},
   "number_sections": false,
   "sideBar": true,
   "skip_h1_title": false,
   "title_cell": "Table of Contents",
   "title_sidebar": "Contents",
   "toc_cell": false,
   "toc_position": {
    "height": "calc(100% - 180px)",
    "left": "10px",
    "top": "150px",
    "width": "244px"
   },
   "toc_section_display": true,
   "toc_window_display": true
  }
 },
 "nbformat": 4,
 "nbformat_minor": 4
}
