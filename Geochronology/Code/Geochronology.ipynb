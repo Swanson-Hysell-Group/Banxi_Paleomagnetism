{
 "cells": [
  {
   "cell_type": "markdown",
   "metadata": {},
   "source": [
    "# Geochronology\n",
    "\n",
    "This Jupyter notebook (Python 3 kernel) plots the $^{206}$Pb/$^{238}$U date and 2$\\sigma$ uncertainties of individual zircons."
   ]
  },
  {
   "cell_type": "markdown",
   "metadata": {},
   "source": [
    "## Standard Modules\n",
    "\n",
    "Import standard modules included in most Python 3 distributions:"
   ]
  },
  {
   "cell_type": "code",
   "execution_count": 1,
   "metadata": {},
   "outputs": [],
   "source": [
    "import matplotlib\n",
    "import matplotlib.pyplot as plt\n",
    "import pandas as pd\n",
    "import numpy as np\n",
    "from scipy import stats"
   ]
  },
  {
   "cell_type": "markdown",
   "metadata": {},
   "source": [
    "## Functions\n",
    "\n",
    "This function generates the date distribution plots:"
   ]
  },
  {
   "cell_type": "code",
   "execution_count": 2,
   "metadata": {},
   "outputs": [],
   "source": [
    "def plot_dates(zircon_means, zircon_2sigmas, include, sample_means, sample_2sigmas, colours, labels,\n",
    "               legend=True, figsize=None, ylim=None, lineweight=None, bbox_to_anchor=None, mean_box=None):\n",
    "    \"\"\"\n",
    "    Make a date distribution plot.\n",
    "    \n",
    "    Parameters\n",
    "    ----------\n",
    "    zircon_means : list of numpy arrays\n",
    "        individual zircon mean dates (each array being a sample, and each element of that array being a zircon)\n",
    "    \n",
    "    zircon_2sigmas : list of numpy arrays\n",
    "        individual zircon 2 sigmas (each array being a sample, and each element of that array being a zircon)\n",
    "        \n",
    "    include : list of lists\n",
    "        'yes' or 'no' for inclusion of individual zircon in mean (each array being a sample, and each element of\n",
    "        that array being a zircon)\n",
    "        \n",
    "    sample_means : list\n",
    "        sample mean dates (each element being a sample)\n",
    "        \n",
    "    sample_2sigmas : list\n",
    "        sample 2 sigmas (each element being a sample)\n",
    "        \n",
    "    colours : list\n",
    "        sample colours for plotting (each element being a sample)\n",
    "        \n",
    "    labels : list\n",
    "        sample labels for the legend (each element being a sample)\n",
    "        \n",
    "    legend : boolean\n",
    "        if True, plot legend (default True, optional)\n",
    "        \n",
    "    figsize : tuple\n",
    "        figure size (default None, optional)\n",
    "        \n",
    "    ylim : tuple\n",
    "        figure y limits (default None, optional)\n",
    "        \n",
    "    lineweight : float\n",
    "        line weight for individual zircons (default None, optional)\n",
    "        \n",
    "    bbox_to_anchor : tuple\n",
    "        for manual placement of the legend (default None, optional)\n",
    "        \n",
    "    mean_box : list\n",
    "        booleans, for decided whether to draw the mean and 2 sigma for a sample (default None, optional)\n",
    "        \n",
    "    Returns\n",
    "    -------\n",
    "    fig : figure handle\n",
    "    \n",
    "    ax : axis handle\n",
    "    \"\"\"\n",
    "    # formatting constants\n",
    "    zircon_spacing = 1\n",
    "    sample_spacing = 6 - zircon_spacing\n",
    "    start_x = 3\n",
    "    yes_alpha = 0.8\n",
    "    no_alpha = 0.2\n",
    "    if lineweight==None:\n",
    "        lineweight=3\n",
    "    \n",
    "    # initialize current x\n",
    "    current_x = start_x\n",
    "    \n",
    "    # number of samples\n",
    "    n_samples = len(zircon_means)\n",
    "    \n",
    "    # plot\n",
    "    if figsize == None:\n",
    "        fig, ax = plt.subplots()\n",
    "    else:\n",
    "        fig, ax = plt.subplots(figsize=figsize)\n",
    "    \n",
    "    # iterate over each sample\n",
    "    plot_mean_box = False\n",
    "    for i in range(n_samples):\n",
    "        \n",
    "        # number of zircons in sample\n",
    "        n_zircons = len(zircon_means[i])\n",
    "        \n",
    "        # check if we need to plot the mean box\n",
    "        if mean_box==None:\n",
    "            plot_mean_box = True\n",
    "        elif mean_box[i]:\n",
    "            plot_mean_box = True\n",
    "        \n",
    "        # iterate over each zircon to find the mean box coordinates\n",
    "        if plot_mean_box:\n",
    "            \n",
    "            # start coordinates\n",
    "            for j in range(n_zircons):\n",
    "                if include[i][j] == 'yes':\n",
    "                    start_box_x = current_x + j*zircon_spacing - zircon_spacing/2\n",
    "                    break\n",
    "            \n",
    "            # end coordinates\n",
    "            for j in -(np.arange(n_zircons,dtype=int)+1):\n",
    "                if include[i].iloc[j] == 'yes':\n",
    "                    end_box_x = current_x + (n_zircons+j)*zircon_spacing + zircon_spacing/2\n",
    "                    break\n",
    "\n",
    "            # plot the mean box\n",
    "            # the 2sigma uncertainty on the sample age\n",
    "            if sample_2sigmas != None:\n",
    "                rectangle = matplotlib.patches.Rectangle((start_box_x, sample_means[i]-sample_2sigmas[i]),\n",
    "                                                         (end_box_x-start_box_x), sample_2sigmas[i]*2,\n",
    "                                                         facecolor='C7',edgecolor='none')\n",
    "                ax.add_patch(rectangle)\n",
    "\n",
    "            # the mean age\n",
    "            if sample_means != None:\n",
    "                ax.hlines(sample_means[i], start_box_x, end_box_x, colors='k')\n",
    "        \n",
    "        # iterate over each zircon to plot the zircons\n",
    "        marked = False # legend control\n",
    "        for j in range(n_zircons):\n",
    "            \n",
    "            if marked:\n",
    "                if include[i][j] == 'yes':\n",
    "                    ax.vlines(current_x,\n",
    "                              zircon_means[i][j]-zircon_2sigmas[i][j],\n",
    "                              zircon_means[i][j]+zircon_2sigmas[i][j],\n",
    "                              colors=colours[i], lw=lineweight, alpha=yes_alpha)\n",
    "                else:\n",
    "                    ax.vlines(current_x,\n",
    "                              zircon_means[i][j]-zircon_2sigmas[i][j],\n",
    "                              zircon_means[i][j]+zircon_2sigmas[i][j],\n",
    "                              colors=colours[i], lw=lineweight, alpha=no_alpha)\n",
    "            else:\n",
    "                if include[i][j] == 'yes':\n",
    "                    ax.vlines(current_x,\n",
    "                              zircon_means[i][j]-zircon_2sigmas[i][j],\n",
    "                              zircon_means[i][j]+zircon_2sigmas[i][j],\n",
    "                              colors=colours[i], lw=lineweight, alpha=yes_alpha, label=labels[i])\n",
    "                    marked = True\n",
    "                else:\n",
    "                    ax.vlines(current_x,\n",
    "                              zircon_means[i][j]-zircon_2sigmas[i][j],\n",
    "                              zircon_means[i][j]+zircon_2sigmas[i][j],\n",
    "                              colors=colours[i], lw=lineweight, alpha=no_alpha)\n",
    "                \n",
    "            # tick the x to the next zircon\n",
    "            current_x = current_x + zircon_spacing\n",
    "        \n",
    "        # tick the x to the next sample\n",
    "        current_x = current_x + sample_spacing\n",
    "        \n",
    "    # prettify\n",
    "    ax.invert_yaxis()\n",
    "    ax.set_ylabel('$^{206}$Pb/$^{238}$U date [Ma]')\n",
    "    if legend:\n",
    "        if bbox_to_anchor == None:\n",
    "            ax.legend(bbox_to_anchor=(1.8,1), fontsize=12)\n",
    "        else:\n",
    "            ax.legend(bbox_to_anchor=bbox_to_anchor, fontsize=12)\n",
    "    if ylim != None:\n",
    "        ax.set_ylim(ylim)\n",
    "        \n",
    "    return fig, ax"
   ]
  },
  {
   "cell_type": "code",
   "execution_count": 3,
   "metadata": {},
   "outputs": [],
   "source": [
    "def weighted_mean(dates,sigma):\n",
    "    \n",
    "    \"\"\"\n",
    "    calculated a weighted mean from dates and uncertainities\n",
    "    \n",
    "    input parameters\n",
    "    ----------------\n",
    "    dates: date of individual grains\n",
    "    sigma: 1 sigma uncertainty associated with dates\n",
    "    \n",
    "    returns\n",
    "    ----------------\n",
    "    weighted_mean, 2 sigma uncertainty\n",
    "    \n",
    "    \"\"\"\n",
    "    \n",
    "    inverse_variance=[]\n",
    "    alpha=[]\n",
    "    weighted_mean_calc=[]\n",
    "    \n",
    "    for n in range(0,len(dates)):\n",
    "        value = 1/sigma[n]**2\n",
    "        inverse_variance.append(value)\n",
    "    inverse_variance_sum = np.sum(inverse_variance)\n",
    "    \n",
    "    for n in range(0,len(dates)):\n",
    "        value = (1/sigma[n]**2)/inverse_variance_sum\n",
    "        alpha.append(value)\n",
    "        \n",
    "    #calculate the weights for each date\n",
    "    for n in range(0,len(dates)):\n",
    "        value = alpha[n]*dates[n]\n",
    "        weighted_mean_calc.append(value)\n",
    "    \n",
    "    #take the sum of the weights multiplied by the dates to get the weighted\n",
    "    #mean (equation 64 of McLean et al., 2011)\n",
    "    weighted_mean = np.sum(weighted_mean_calc)\n",
    "    \n",
    "    #the variance of the weighted mean is simply the inverse of the sum of\n",
    "    #the inverse variances of each date (equation 66 of McLean et al., 2011)\n",
    "    variance = 1/inverse_variance_sum\n",
    "    \n",
    "    weighted_mean_sigma = np.sqrt(variance)\n",
    "    \n",
    "    n = len(dates)\n",
    "    \n",
    "    print('The weighted mean is:')\n",
    "\n",
    "    print(weighted_mean)\n",
    "\n",
    "    print('With a 2sigma error of:')\n",
    "\n",
    "    print(2*weighted_mean_sigma)\n",
    "    \n",
    "    print('N=' )\n",
    "    print(n)\n",
    "    \n",
    "    return weighted_mean, 2*weighted_mean_sigma"
   ]
  },
  {
   "cell_type": "markdown",
   "metadata": {
    "collapsed": true
   },
   "source": [
    "## Dates\n",
    "\n",
    "Import the data:"
   ]
  },
  {
   "cell_type": "code",
   "execution_count": 4,
   "metadata": {},
   "outputs": [
    {
     "data": {
      "text/plain": [
       "array(['17080201', 'HZ-8-2', 'HZ-59-6', 'HZ-470', 'LM1.84', 'LM27.19',\n",
       "       'QR8-74-0', 'FDM14-1'], dtype=object)"
      ]
     },
     "execution_count": 4,
     "metadata": {},
     "output_type": "execute_result"
    }
   ],
   "source": [
    "this_study = pd.read_csv('../Data/this_study.csv')\n",
    "this_study['sample'].unique()"
   ]
  },
  {
   "cell_type": "code",
   "execution_count": 5,
   "metadata": {},
   "outputs": [],
   "source": [
    "# separate samples\n",
    "Madiyi = this_study[this_study['sample']=='17080201'].copy()\n",
    "Liantuo = this_study[this_study['sample']=='FDM14-1'].copy()\n",
    "H3_8 = this_study[this_study['sample']=='HZ-8-2'].copy()\n",
    "H3_60 = this_study[this_study['sample']=='HZ-59-6'].copy()\n",
    "H2_470 = this_study[this_study['sample']=='HZ-470'].copy()\n",
    "L4_2 = this_study[this_study['sample']=='LM1.84'].copy()\n",
    "L1_27 = this_study[this_study['sample']=='LM27.19'].copy()\n",
    "QR_74 = this_study[this_study['sample']=='QR8-74-0'].copy()\n",
    "\n",
    "# sort\n",
    "Madiyi.sort_values(by='206Pb/238U', ascending=True, inplace=True)\n",
    "Liantuo.sort_values(by='206Pb/238U', ascending=True, inplace=True)\n",
    "H3_8.sort_values(by='206Pb/238U', ascending=True, inplace=True)\n",
    "H3_60.sort_values(by='206Pb/238U', ascending=True, inplace=True)\n",
    "H2_470.sort_values(by='206Pb/238U', ascending=True, inplace=True)\n",
    "L4_2.sort_values(by='206Pb/238U', ascending=True, inplace=True)\n",
    "L1_27.sort_values(by='206Pb/238U', ascending=True, inplace=True)\n",
    "QR_74.sort_values(by='206Pb/238U', ascending=True, inplace=True)\n",
    "\n",
    "# reset index\n",
    "Madiyi.reset_index(inplace=True, drop=True)\n",
    "Liantuo.reset_index(inplace=True, drop=True)\n",
    "H3_8.reset_index(inplace=True, drop=True)\n",
    "H3_60.reset_index(inplace=True, drop=True)\n",
    "H2_470.reset_index(inplace=True, drop=True)\n",
    "L4_2.reset_index(inplace=True, drop=True)\n",
    "L1_27.reset_index(inplace=True, drop=True)\n",
    "QR_74.reset_index(inplace=True, drop=True)"
   ]
  },
  {
   "cell_type": "code",
   "execution_count": 6,
   "metadata": {},
   "outputs": [],
   "source": [
    "Xian2020 = pd.read_csv('../Data/Xian2020a.csv')\n",
    "Xian2020.sort_values(by='206Pb/238U', ascending=True, inplace=True)\n",
    "Xian2020.reset_index(inplace=True, drop=True)"
   ]
  },
  {
   "cell_type": "code",
   "execution_count": 7,
   "metadata": {},
   "outputs": [],
   "source": [
    "Lan2015 = pd.read_csv('../Data/Lan2015a.csv')\n",
    "Lan2015.sort_values(by='206Pb/238U', ascending=True, inplace=True)\n",
    "Lan2015.reset_index(inplace=True, drop=True)"
   ]
  },
  {
   "cell_type": "markdown",
   "metadata": {},
   "source": [
    "Pull out/define the necessary variables:"
   ]
  },
  {
   "cell_type": "code",
   "execution_count": 8,
   "metadata": {},
   "outputs": [],
   "source": [
    "zircon_means = [H2_470['206Pb/238U'],\n",
    "                L1_27['206Pb/238U'],\n",
    "                L4_2['206Pb/238U'],\n",
    "                QR_74['206Pb/238U'],\n",
    "                H3_60['206Pb/238U'],\n",
    "                H3_8['206Pb/238U'],\n",
    "                Madiyi['206Pb/238U'],\n",
    "                Xian2020['206Pb/238U'],\n",
    "                Liantuo['206Pb/238U'],\n",
    "                Lan2015['206Pb/238U']]\n",
    "\n",
    "zircon_2sigmas = [H2_470['206Pb/238U_2sigma'],\n",
    "                  L1_27['206Pb/238U_2sigma'],\n",
    "                  L4_2['206Pb/238U_2sigma'],\n",
    "                  QR_74['206Pb/238U_2sigma'],\n",
    "                  H3_60['206Pb/238U_2sigma'],\n",
    "                  H3_8['206Pb/238U_2sigma'],\n",
    "                  Madiyi['206Pb/238U_2sigma'],\n",
    "                  Xian2020['206Pb/238U_sigma']*2,\n",
    "                  Liantuo['206Pb/238U_2sigma'],\n",
    "                  Lan2015['206Pb/238U_sigma']*2]\n",
    "\n",
    "include = [H2_470['include'],\n",
    "           L1_27['include'],\n",
    "           L4_2['include'],\n",
    "           QR_74['include'],\n",
    "           H3_60['include'],\n",
    "           H3_8['include'],\n",
    "           Madiyi['include'],\n",
    "           Xian2020['include'],\n",
    "           Liantuo['include'],\n",
    "           Lan2015['include']]\n",
    "\n",
    "sample_means = [815.73,\n",
    "                814.19,\n",
    "                813.06,\n",
    "                811.47,\n",
    "                809.52,\n",
    "                804.56,\n",
    "                804.90,\n",
    "                801.90,\n",
    "                779.52,\n",
    "                732]\n",
    "\n",
    "sample_2sigmas = [0.18,\n",
    "                  0.21,\n",
    "                  0.35,\n",
    "                  0.67,\n",
    "                  0.50,\n",
    "                  0.39,\n",
    "                  0.36,\n",
    "                  6.3,\n",
    "                  0.26,\n",
    "                  10]\n",
    "\n",
    "labels = ['H2-470',\n",
    "          'L1-27',\n",
    "          'L4-2',\n",
    "          'QR-74',\n",
    "          'H3-60',\n",
    "          'H3-8',\n",
    "          'Madiyi Fm. - this study',\n",
    "          'Madiyi Fm. - Xian et al. (2020)',\n",
    "          'Liantuo Fm. - this study',\n",
    "          'Liantuo Fm. - Lan et al. (2015)']"
   ]
  },
  {
   "cell_type": "markdown",
   "metadata": {},
   "source": [
    "## Plots"
   ]
  },
  {
   "cell_type": "markdown",
   "metadata": {},
   "source": [
    "### Everything"
   ]
  },
  {
   "cell_type": "code",
   "execution_count": 9,
   "metadata": {},
   "outputs": [
    {
     "data": {
      "image/png": "[encoded data removed]",
      "text/plain": [
       "<Figure size 1080x720 with 1 Axes>"
      ]
     },
     "metadata": {
      "needs_background": "light"
     },
     "output_type": "display_data"
    }
   ],
   "source": [
    "colors = plt.cm.viridis(np.linspace(0,1,len(sample_means)))\n",
    "\n",
    "fig, ax = plot_dates(zircon_means, zircon_2sigmas, include, sample_means, sample_2sigmas, colors, labels,\n",
    "                     figsize=(15,10), lineweight=4, bbox_to_anchor=(0.15,1), ylim=(860,715))\n",
    "ax.set_xticks([])\n",
    "plt.show(fig)"
   ]
  },
  {
   "cell_type": "markdown",
   "metadata": {},
   "source": [
    "### Banxi"
   ]
  },
  {
   "cell_type": "code",
   "execution_count": 10,
   "metadata": {},
   "outputs": [],
   "source": [
    "zircon_means = [H2_470['206Pb/238U'],\n",
    "                L1_27['206Pb/238U'],\n",
    "                L4_2['206Pb/238U'],\n",
    "                QR_74['206Pb/238U'],\n",
    "                H3_60['206Pb/238U'],\n",
    "                H3_8['206Pb/238U']]\n",
    "\n",
    "zircon_2sigmas = [H2_470['206Pb/238U_2sigma'],\n",
    "                  L1_27['206Pb/238U_2sigma'],\n",
    "                  L4_2['206Pb/238U_2sigma'],\n",
    "                  QR_74['206Pb/238U_2sigma'],\n",
    "                  H3_60['206Pb/238U_2sigma'],\n",
    "                  H3_8['206Pb/238U_2sigma']]\n",
    "\n",
    "include = [H2_470['include'],\n",
    "           L1_27['include'],\n",
    "           L4_2['include'],\n",
    "           QR_74['include'],\n",
    "           H3_60['include'],\n",
    "           H3_8['include']]\n",
    "\n",
    "sample_means = [815.73,\n",
    "                814.19,\n",
    "                813.06,\n",
    "                811.47,\n",
    "                809.52,\n",
    "                804.56]\n",
    "\n",
    "sample_2sigmas = [0.18,\n",
    "                  0.21,\n",
    "                  0.35,\n",
    "                  0.67,\n",
    "                  0.50,\n",
    "                  0.39]\n",
    "\n",
    "labels = ['H2-470',\n",
    "          'L1-27',\n",
    "          'L4-2',\n",
    "          'QR-74',\n",
    "          'H3-60',\n",
    "          'H3-8']"
   ]
  },
  {
   "cell_type": "code",
   "execution_count": 11,
   "metadata": {},
   "outputs": [
    {
     "data": {
      "image/png": "[encoded data removed]",
      "text/plain": [
       "<Figure size 720x360 with 1 Axes>"
      ]
     },
     "metadata": {
      "needs_background": "light"
     },
     "output_type": "display_data"
    }
   ],
   "source": [
    "colors = ['k']*len(labels)\n",
    "\n",
    "fig, ax = plot_dates(zircon_means, zircon_2sigmas, include, sample_means, sample_2sigmas, colors, labels,\n",
    "                     figsize=(10,5), lineweight=5, ylim=(860,800), legend=False)\n",
    "ax.set_xlim(0,78) #to maintain consistent axis sizes between figures\n",
    "ax.set_xticks([])\n",
    "#plt.savefig('../Output/Banxi_zircons.pdf',bbox_inches='tight')\n",
    "plt.show(fig)"
   ]
  },
  {
   "cell_type": "markdown",
   "metadata": {},
   "source": [
    "### Madiyi"
   ]
  },
  {
   "cell_type": "code",
   "execution_count": 12,
   "metadata": {},
   "outputs": [],
   "source": [
    "zircon_means = [Madiyi['206Pb/238U'],\n",
    "                Xian2020['206Pb/238U']]\n",
    "\n",
    "zircon_2sigmas = [Madiyi['206Pb/238U_2sigma'],\n",
    "                  Xian2020['206Pb/238U_sigma']*2]\n",
    "\n",
    "include = [Madiyi['include'],\n",
    "           Xian2020['include']]\n",
    "\n",
    "sample_means = [804.90,\n",
    "                801.90]\n",
    "\n",
    "sample_2sigmas = [0.36,\n",
    "                  6.3]\n",
    "\n",
    "labels = ['Madiyi Fm. - this study',\n",
    "          'Madiyi Fm. - Xian et al. (2020)']"
   ]
  },
  {
   "cell_type": "code",
   "execution_count": 13,
   "metadata": {},
   "outputs": [
    {
     "data": {
      "image/png": "[encoded data removed]",
      "text/plain": [
       "<Figure size 720x360 with 1 Axes>"
      ]
     },
     "metadata": {
      "needs_background": "light"
     },
     "output_type": "display_data"
    }
   ],
   "source": [
    "colors = ['k']*len(labels)\n",
    "\n",
    "fig, ax = plot_dates(zircon_means, zircon_2sigmas, include, sample_means, sample_2sigmas, colors, labels,\n",
    "                     figsize=(10,5), lineweight=5, ylim=(855,735), legend=False)\n",
    "ax.set_xlim(0,78) #to maintain consistent axis sizes between figures\n",
    "ax.set_xticks([])\n",
    "#plt.savefig('../Output/Madiyi_zircons.pdf',bbox_inches='tight')\n",
    "plt.show(fig)"
   ]
  },
  {
   "cell_type": "markdown",
   "metadata": {},
   "source": [
    "### Liantuo"
   ]
  },
  {
   "cell_type": "markdown",
   "metadata": {},
   "source": [
    "Youngest 2 grains, as in Lan et al. (2015):"
   ]
  },
  {
   "cell_type": "code",
   "execution_count": 14,
   "metadata": {},
   "outputs": [
    {
     "name": "stdout",
     "output_type": "stream",
     "text": [
      "The weighted mean is:\n",
      "732.1648712798977\n",
      "With a 2sigma error of:\n",
      "10.462314017775247\n",
      "N=\n",
      "2\n"
     ]
    }
   ],
   "source": [
    "Lan2015_mean, Lan2015_2sigma = weighted_mean(Lan2015['206Pb/238U'][0:2], Lan2015['206Pb/238U_sigma'][0:2])"
   ]
  },
  {
   "cell_type": "markdown",
   "metadata": {},
   "source": [
    "All the grains:"
   ]
  },
  {
   "cell_type": "code",
   "execution_count": 15,
   "metadata": {},
   "outputs": [
    {
     "name": "stdout",
     "output_type": "stream",
     "text": [
      "The weighted mean is:\n",
      "769.6560526503374\n",
      "With a 2sigma error of:\n",
      "2.773869238871002\n",
      "N=\n",
      "32\n"
     ]
    }
   ],
   "source": [
    "Lan2015_all_mean, Lan2015_all_2sigma = weighted_mean(Lan2015['206Pb/238U'], Lan2015['206Pb/238U_sigma'])"
   ]
  },
  {
   "cell_type": "code",
   "execution_count": 16,
   "metadata": {},
   "outputs": [],
   "source": [
    "zircon_means = [Liantuo['206Pb/238U'],\n",
    "                Lan2015['206Pb/238U']]\n",
    "\n",
    "zircon_2sigmas = [Liantuo['206Pb/238U_2sigma'],\n",
    "                  Lan2015['206Pb/238U_sigma']*2]\n",
    "\n",
    "include = [Liantuo['include'],\n",
    "           Lan2015['include']]\n",
    "\n",
    "sample_means = [779.52,\n",
    "                Lan2015_mean]\n",
    "\n",
    "sample_2sigmas = [0.26,\n",
    "                  Lan2015_2sigma]\n",
    "\n",
    "labels = ['Liantuo Fm. - this study',\n",
    "          'Liantuo Fm. - Lan et al. (2015)']"
   ]
  },
  {
   "cell_type": "code",
   "execution_count": 17,
   "metadata": {},
   "outputs": [
    {
     "data": {
      "image/png": "[encoded data removed]",
      "text/plain": [
       "<Figure size 720x360 with 1 Axes>"
      ]
     },
     "metadata": {
      "needs_background": "light"
     },
     "output_type": "display_data"
    }
   ],
   "source": [
    "colors = ['k']*len(labels)\n",
    "\n",
    "fig, ax = plot_dates(zircon_means, zircon_2sigmas, include, sample_means, sample_2sigmas, colors, labels,\n",
    "                     figsize=(10,5), lineweight=5, ylim=(825,710), legend=False)\n",
    "ax.set_xlim(0,78) #to maintain consistent axis sizes between figures\n",
    "ax.set_xticks([])\n",
    "\n",
    "# weighted mean based on all zircons\n",
    "rectangle = matplotlib.patches.Rectangle((23.5, Lan2015_all_mean-Lan2015_all_2sigma),\n",
    "                                         len(Lan2015), Lan2015_all_2sigma*2, color='C7', zorder=-99)\n",
    "ax.add_patch(rectangle)\n",
    "\n",
    "ax.hlines(Lan2015_all_mean, 23.5, 23.5+len(Lan2015), colors='k')\n",
    "\n",
    "#plt.savefig('../Output/Liantuo_zircons.pdf',bbox_inches='tight')\n",
    "plt.show(fig)"
   ]
  }
 ],
 "metadata": {
  "anaconda-cloud": {},
  "kernelspec": {
   "display_name": "Python 3",
   "language": "python",
   "name": "python3"
  },
  "language_info": {
   "codemirror_mode": {
    "name": "ipython",
    "version": 3
   },
   "file_extension": ".py",
   "mimetype": "text/x-python",
   "name": "python",
   "nbconvert_exporter": "python",
   "pygments_lexer": "ipython3",
   "version": "3.7.9"
  },
  "nav_menu": {},
  "toc": {
   "base_numbering": 1,
   "nav_menu": {
    "height": "48px",
    "width": "252px"
   },
   "number_sections": false,
   "sideBar": true,
   "skip_h1_title": true,
   "title_cell": "Table of Contents",
   "title_sidebar": "Contents",
   "toc_cell": false,
   "toc_position": {
    "height": "648px",
    "left": "0px",
    "right": "1284px",
    "top": "111px",
    "width": "285px"
   },
   "toc_section_display": "block",
   "toc_window_display": true
  }
 },
 "nbformat": 4,
 "nbformat_minor": 1
}
